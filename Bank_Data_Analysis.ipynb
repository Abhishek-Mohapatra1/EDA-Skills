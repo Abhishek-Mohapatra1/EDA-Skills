{
 "cells": [
  {
   "cell_type": "code",
   "execution_count": 1,
   "id": "f42bdda0",
   "metadata": {},
   "outputs": [],
   "source": [
    "import pandas as pd\n",
    "import numpy as np\n",
    "import matplotlib.pyplot as plt\n",
    "import seaborn as sns\n",
    "import re\n",
    "import string\n",
    "import datetime"
   ]
  },
  {
   "cell_type": "code",
   "execution_count": 2,
   "id": "70b2d55d",
   "metadata": {},
   "outputs": [
    {
     "data": {
      "text/plain": [
       "'C:\\\\Users\\\\MAVERICK\\\\OneDrive\\\\Desktop\\\\New folder\\\\Lognormal.io'"
      ]
     },
     "execution_count": 2,
     "metadata": {},
     "output_type": "execute_result"
    }
   ],
   "source": [
    "pwd"
   ]
  },
  {
   "cell_type": "markdown",
   "id": "3a72216d",
   "metadata": {},
   "source": [
    "### 1- Load the Data in the file - \"assignment_python.csv\" given to you as a .csv using Pandas"
   ]
  },
  {
   "cell_type": "code",
   "execution_count": 3,
   "id": "8e09d362",
   "metadata": {},
   "outputs": [],
   "source": [
    "df1=pd.read_csv('assignment_python.csv')\n"
   ]
  },
  {
   "cell_type": "markdown",
   "id": "a8915e8c",
   "metadata": {},
   "source": [
    "### 2- Understand the data using the columns given (metadata descriptions below)"
   ]
  },
  {
   "cell_type": "code",
   "execution_count": 4,
   "id": "2cb886fe",
   "metadata": {},
   "outputs": [],
   "source": [
    "df=df1.copy(deep=True)"
   ]
  },
  {
   "cell_type": "code",
   "execution_count": 5,
   "id": "8533e072",
   "metadata": {},
   "outputs": [
    {
     "data": {
      "text/html": [
       "<div>\n",
       "<style scoped>\n",
       "    .dataframe tbody tr th:only-of-type {\n",
       "        vertical-align: middle;\n",
       "    }\n",
       "\n",
       "    .dataframe tbody tr th {\n",
       "        vertical-align: top;\n",
       "    }\n",
       "\n",
       "    .dataframe thead th {\n",
       "        text-align: right;\n",
       "    }\n",
       "</style>\n",
       "<table border=\"1\" class=\"dataframe\">\n",
       "  <thead>\n",
       "    <tr style=\"text-align: right;\">\n",
       "      <th></th>\n",
       "      <th>IDCUSTOMER</th>\n",
       "      <th>GENDER</th>\n",
       "      <th>CITY</th>\n",
       "      <th>COUNTRY</th>\n",
       "      <th>FIRST_DEPOSIT_AMOUNT</th>\n",
       "      <th>REGISTRATION_DATE</th>\n",
       "      <th>DEPOSIT_DATE</th>\n",
       "    </tr>\n",
       "  </thead>\n",
       "  <tbody>\n",
       "    <tr>\n",
       "      <th>0</th>\n",
       "      <td>5075649</td>\n",
       "      <td>M</td>\n",
       "      <td>ankara</td>\n",
       "      <td>Turkey</td>\n",
       "      <td>100.0</td>\n",
       "      <td>2009-01-10</td>\n",
       "      <td>2022-06-05</td>\n",
       "    </tr>\n",
       "    <tr>\n",
       "      <th>1</th>\n",
       "      <td>5176235</td>\n",
       "      <td>M</td>\n",
       "      <td>elazığ</td>\n",
       "      <td>Turkey</td>\n",
       "      <td>400.0</td>\n",
       "      <td>2009-03-01</td>\n",
       "      <td>2022-02-11</td>\n",
       "    </tr>\n",
       "    <tr>\n",
       "      <th>2</th>\n",
       "      <td>5249140</td>\n",
       "      <td>M</td>\n",
       "      <td>izmir</td>\n",
       "      <td>Turkey</td>\n",
       "      <td>200.0</td>\n",
       "      <td>2009-04-06</td>\n",
       "      <td>2022-05-02</td>\n",
       "    </tr>\n",
       "    <tr>\n",
       "      <th>3</th>\n",
       "      <td>5300998</td>\n",
       "      <td>M</td>\n",
       "      <td>Üsküdar</td>\n",
       "      <td>Turkey</td>\n",
       "      <td>100.0</td>\n",
       "      <td>2009-05-02</td>\n",
       "      <td>2022-02-11</td>\n",
       "    </tr>\n",
       "    <tr>\n",
       "      <th>4</th>\n",
       "      <td>5371454</td>\n",
       "      <td>M</td>\n",
       "      <td>sakarya</td>\n",
       "      <td>Turkey</td>\n",
       "      <td>880.0</td>\n",
       "      <td>2009-06-07</td>\n",
       "      <td>2022-05-29</td>\n",
       "    </tr>\n",
       "    <tr>\n",
       "      <th>...</th>\n",
       "      <td>...</td>\n",
       "      <td>...</td>\n",
       "      <td>...</td>\n",
       "      <td>...</td>\n",
       "      <td>...</td>\n",
       "      <td>...</td>\n",
       "      <td>...</td>\n",
       "    </tr>\n",
       "    <tr>\n",
       "      <th>22060</th>\n",
       "      <td>147844121</td>\n",
       "      <td>M</td>\n",
       "      <td>İstanbul</td>\n",
       "      <td>Turkey</td>\n",
       "      <td>50.0</td>\n",
       "      <td>2022-08-31</td>\n",
       "      <td>2022-08-31</td>\n",
       "    </tr>\n",
       "    <tr>\n",
       "      <th>22061</th>\n",
       "      <td>147844491</td>\n",
       "      <td>M</td>\n",
       "      <td>Eskişehir</td>\n",
       "      <td>Turkey</td>\n",
       "      <td>50.0</td>\n",
       "      <td>2022-08-31</td>\n",
       "      <td>2022-08-31</td>\n",
       "    </tr>\n",
       "    <tr>\n",
       "      <th>22062</th>\n",
       "      <td>147846481</td>\n",
       "      <td>M</td>\n",
       "      <td>Van</td>\n",
       "      <td>Turkey</td>\n",
       "      <td>100.0</td>\n",
       "      <td>2022-08-31</td>\n",
       "      <td>2022-08-31</td>\n",
       "    </tr>\n",
       "    <tr>\n",
       "      <th>22063</th>\n",
       "      <td>147843561</td>\n",
       "      <td>M</td>\n",
       "      <td>Antalya</td>\n",
       "      <td>Turkey</td>\n",
       "      <td>200.0</td>\n",
       "      <td>2022-08-31</td>\n",
       "      <td>2022-08-31</td>\n",
       "    </tr>\n",
       "    <tr>\n",
       "      <th>22064</th>\n",
       "      <td>147844971</td>\n",
       "      <td>M</td>\n",
       "      <td>İstanbul</td>\n",
       "      <td>Turkey</td>\n",
       "      <td>150.0</td>\n",
       "      <td>2022-08-31</td>\n",
       "      <td>2022-08-31</td>\n",
       "    </tr>\n",
       "  </tbody>\n",
       "</table>\n",
       "<p>22065 rows × 7 columns</p>\n",
       "</div>"
      ],
      "text/plain": [
       "       IDCUSTOMER GENDER       CITY COUNTRY  FIRST_DEPOSIT_AMOUNT  \\\n",
       "0         5075649      M     ankara  Turkey                 100.0   \n",
       "1         5176235      M     elazığ  Turkey                 400.0   \n",
       "2         5249140      M      izmir  Turkey                 200.0   \n",
       "3         5300998      M    Üsküdar  Turkey                 100.0   \n",
       "4         5371454      M    sakarya  Turkey                 880.0   \n",
       "...           ...    ...        ...     ...                   ...   \n",
       "22060   147844121      M   İstanbul  Turkey                  50.0   \n",
       "22061   147844491      M  Eskişehir  Turkey                  50.0   \n",
       "22062   147846481      M        Van  Turkey                 100.0   \n",
       "22063   147843561      M    Antalya  Turkey                 200.0   \n",
       "22064   147844971      M   İstanbul  Turkey                 150.0   \n",
       "\n",
       "      REGISTRATION_DATE DEPOSIT_DATE  \n",
       "0            2009-01-10   2022-06-05  \n",
       "1            2009-03-01   2022-02-11  \n",
       "2            2009-04-06   2022-05-02  \n",
       "3            2009-05-02   2022-02-11  \n",
       "4            2009-06-07   2022-05-29  \n",
       "...                 ...          ...  \n",
       "22060        2022-08-31   2022-08-31  \n",
       "22061        2022-08-31   2022-08-31  \n",
       "22062        2022-08-31   2022-08-31  \n",
       "22063        2022-08-31   2022-08-31  \n",
       "22064        2022-08-31   2022-08-31  \n",
       "\n",
       "[22065 rows x 7 columns]"
      ]
     },
     "execution_count": 5,
     "metadata": {},
     "output_type": "execute_result"
    }
   ],
   "source": [
    "df"
   ]
  },
  {
   "cell_type": "code",
   "execution_count": 6,
   "id": "cbfdfb43",
   "metadata": {},
   "outputs": [
    {
     "data": {
      "text/html": [
       "<div>\n",
       "<style scoped>\n",
       "    .dataframe tbody tr th:only-of-type {\n",
       "        vertical-align: middle;\n",
       "    }\n",
       "\n",
       "    .dataframe tbody tr th {\n",
       "        vertical-align: top;\n",
       "    }\n",
       "\n",
       "    .dataframe thead th {\n",
       "        text-align: right;\n",
       "    }\n",
       "</style>\n",
       "<table border=\"1\" class=\"dataframe\">\n",
       "  <thead>\n",
       "    <tr style=\"text-align: right;\">\n",
       "      <th></th>\n",
       "      <th>IDCUSTOMER</th>\n",
       "      <th>FIRST_DEPOSIT_AMOUNT</th>\n",
       "    </tr>\n",
       "  </thead>\n",
       "  <tbody>\n",
       "    <tr>\n",
       "      <th>count</th>\n",
       "      <td>2.206500e+04</td>\n",
       "      <td>22065.000000</td>\n",
       "    </tr>\n",
       "    <tr>\n",
       "      <th>mean</th>\n",
       "      <td>1.380593e+08</td>\n",
       "      <td>284.806530</td>\n",
       "    </tr>\n",
       "    <tr>\n",
       "      <th>std</th>\n",
       "      <td>3.272693e+07</td>\n",
       "      <td>943.993064</td>\n",
       "    </tr>\n",
       "    <tr>\n",
       "      <th>min</th>\n",
       "      <td>5.075649e+06</td>\n",
       "      <td>0.380000</td>\n",
       "    </tr>\n",
       "    <tr>\n",
       "      <th>25%</th>\n",
       "      <td>1.459097e+08</td>\n",
       "      <td>70.000000</td>\n",
       "    </tr>\n",
       "    <tr>\n",
       "      <th>50%</th>\n",
       "      <td>1.465139e+08</td>\n",
       "      <td>100.000000</td>\n",
       "    </tr>\n",
       "    <tr>\n",
       "      <th>75%</th>\n",
       "      <td>1.471483e+08</td>\n",
       "      <td>250.000000</td>\n",
       "    </tr>\n",
       "    <tr>\n",
       "      <th>max</th>\n",
       "      <td>1.478480e+08</td>\n",
       "      <td>100000.000000</td>\n",
       "    </tr>\n",
       "  </tbody>\n",
       "</table>\n",
       "</div>"
      ],
      "text/plain": [
       "         IDCUSTOMER  FIRST_DEPOSIT_AMOUNT\n",
       "count  2.206500e+04          22065.000000\n",
       "mean   1.380593e+08            284.806530\n",
       "std    3.272693e+07            943.993064\n",
       "min    5.075649e+06              0.380000\n",
       "25%    1.459097e+08             70.000000\n",
       "50%    1.465139e+08            100.000000\n",
       "75%    1.471483e+08            250.000000\n",
       "max    1.478480e+08         100000.000000"
      ]
     },
     "execution_count": 6,
     "metadata": {},
     "output_type": "execute_result"
    }
   ],
   "source": [
    "df.describe()"
   ]
  },
  {
   "cell_type": "markdown",
   "id": "bd8aafa1",
   "metadata": {},
   "source": [
    "#### Observation: There are a lot of outliers in FIRST_DEPOSIT_AMOUNT column since the Max value is 100000 and at 75% its only 250"
   ]
  },
  {
   "cell_type": "code",
   "execution_count": 7,
   "id": "fe94936e",
   "metadata": {},
   "outputs": [
    {
     "data": {
      "text/plain": [
       "array(['Turkey'], dtype=object)"
      ]
     },
     "execution_count": 7,
     "metadata": {},
     "output_type": "execute_result"
    }
   ],
   "source": [
    "df['COUNTRY'].unique()"
   ]
  },
  {
   "cell_type": "markdown",
   "id": "34c709a4",
   "metadata": {},
   "source": [
    "#### Observation: there is only one Country as \"Turkey\""
   ]
  },
  {
   "cell_type": "markdown",
   "id": "e268bfe8",
   "metadata": {},
   "source": [
    "."
   ]
  },
  {
   "cell_type": "code",
   "execution_count": 8,
   "id": "a07da705",
   "metadata": {
    "scrolled": true
   },
   "outputs": [
    {
     "data": {
      "text/plain": [
       "331"
      ]
     },
     "execution_count": 8,
     "metadata": {},
     "output_type": "execute_result"
    }
   ],
   "source": [
    "len(df['CITY'].value_counts())"
   ]
  },
  {
   "cell_type": "markdown",
   "id": "0d291e44",
   "metadata": {},
   "source": [
    "#### *We can observe that there are lot of unique variables in CITY column so we have to check for any duplicates or same city features to combine into one.*"
   ]
  },
  {
   "cell_type": "code",
   "execution_count": 9,
   "id": "e383f44a",
   "metadata": {},
   "outputs": [
    {
     "data": {
      "text/plain": [
       "0     ankara\n",
       "1     elazığ\n",
       "2      izmir\n",
       "3    üsküdar\n",
       "4    sakarya\n",
       "Name: CITY, dtype: object"
      ]
     },
     "execution_count": 9,
     "metadata": {},
     "output_type": "execute_result"
    }
   ],
   "source": [
    "# Lowering the case\n",
    "df['CITY'] = df['CITY'].map(lambda x: x.lower())\n",
    "\n",
    "string.punctuation\n",
    "\n",
    "# remove punctuation\n",
    "df['CITY'] = df['CITY'].map(lambda x: re.sub('[!\"#$%&\\'()*+,-./:;<=>?@[\\\\]^_`{|}~]', \"\", x)) \n",
    "df['CITY'].head()"
   ]
  },
  {
   "cell_type": "code",
   "execution_count": 10,
   "id": "055e555b",
   "metadata": {},
   "outputs": [],
   "source": [
    "# Referred Google to get the actual City Names from \"Turkey\" and replacing all the unwanted,duplicate to its respective city variable.\n",
    "\n",
    "df['CITY']=df['CITY'].replace(dict.fromkeys(['i̇zmi̇r  foça', 'i̇zmir konak', 'i̇zmir', 'i̇zmi̇r',\n",
    "       'kemalpasa  i̇zmir', 'seferihisar i̇zmir', 'i̇zmi̇rkarşıyaka',\n",
    "       'i̇zmir buca','izmir', 'izmir menemen', 'izmirkonak', 'izmirbornova',\n",
    "       'izmir  buca', 'izmir bornova', 'izmir tire'], 'izmir'))\n",
    "df['CITY']=df['CITY'].replace(dict.fromkeys(['ankara', 'si̇ncanankara', 'ankaraaltındağ', 'keçiören  ankara',\n",
    "       'ankara mamak', 'ankara  yenimahalle', 'pursaklarankara',\n",
    "       'ankara ', 'güneş apt blok no22 i̇ç kapı no8 çankaya ankara',\n",
    "       'çankayaankara',\n",
    "       'güneş apt blok no 22 iç kapı no 8 ankara çankaya',\n",
    "       'altındağ ankara', 'ankaraçankaya', 'yenimahalle ankara',\n",
    "       'ankara yeni mahalle'], 'ankara'))\n",
    "df['CITY']=df['CITY'].replace(dict.fromkeys(['istanbul kadiköy', 'istanbul fatih', 'istanbul',\n",
    "       'istanbul maltepe', 'beşiktaşistanbul', 'istanbul  zeytinburnu',\n",
    "       'istanbul kartal', 'sisli  istanbul', 'istanbukküçükçekmece',\n",
    "       'istanbu', 'istanbul buyukcekmece', 'istanbul bahçelievler',\n",
    "       'buyukcekmece istanbul', 'istanbulbeykoz', 'istanbul\\\\üsküdar',\n",
    "       'istanbulsarıyer', 'esenyurt istanbul', 'istanbulkağıthane',\n",
    "       'istanbulzeytinburnu', 'istanbul gaziosmanpasa', 'istanbultuzla',\n",
    "       'ataşehir istanbul', 'kağıthane istanbul', 'beykoz istanbul','i̇stanbul', 'başakşehi̇ri̇stanbul', 'i̇stanbulsultangazi',\n",
    "       'i̇stanbuleyüp', 'i̇stanbulbahçelievler', 'avcılari̇stanbul',\n",
    "       'fatihi̇stanbul', 'beykoz  i̇stanbul', 'üsküdari̇stanbul',\n",
    "       'maltepe  i̇stanbul', 'sarıyer i̇stanbul', 'atasehir i̇stanbul',\n",
    "       'i̇ç kapı no 7 sancaktepei̇stanbul'], 'istanbul'))\n",
    "df['CITY']=df['CITY'].replace(dict.fromkeys(['sakarya', 'sakarya akyazi', 'karasusakarya'], 'sakarya'))\n",
    "df['CITY']=df['CITY'].replace(dict.fromkeys(['merkez', 'manisa merkez', 'gümüşhanemerkez', 'bilecikmerkez',\n",
    "       'merkezkütahya', 'merkezedirne', 'denizlimerkez', 'bartın merkez',\n",
    "       'gi̇resun merkez', 'merkez  şırnak', 'batman merkez'], 'merkez'))\n",
    "df['CITY']=df['CITY'].replace(dict.fromkeys(['kayseri', 'mimsin kayseri', 'kocasinankayseri'], 'Kayseri'))\n",
    "df['CITY']=df['CITY'].replace(dict.fromkeys(['orduünye', 'ordufatsa', 'ordu', 'perşembe ordu'], 'ordu'))\n",
    "df['CITY']=df['CITY'].replace(dict.fromkeys(['bursa', 'bursa iznik yesılcami mh karaca skk', 'bursa karacabey',\n",
    "       'bursani̇lüfer'], 'bursa'))\n",
    "df['CITY']=df['CITY'].replace(dict.fromkeys(['konya', 'konya selcuklu', 'konyaselçuklu', 'konyailgin',\n",
    "       'konya emirgazi'], 'konya'))\n",
    "df['CITY']=df['CITY'].replace(dict.fromkeys(['hatay antakya', 'hatay', 'hatayantakya'], 'hatay'))\n",
    "df['CITY']=df['CITY'].replace(dict.fromkeys(['samsun', 'samsunbafra', 'i̇lkadimsamsun'], 'samsun'))\n",
    "df['CITY']=df['CITY'].replace(dict.fromkeys(['kumluca', 'antalya kumluca'], 'kumluca'))\n",
    "df['CITY']=df['CITY'].replace(dict.fromkeys(['tekirdağ çorlu', 'çorlu tekirdağ', 'muratlitekirdag', 'tekirdağ',\n",
    "       'tekirdağ ', 'tekirdağ\\\\ çorlu'], 'tekirdağ'))\n",
    "df['CITY']=df['CITY'].replace(dict.fromkeys(['burdur', 'yeşi̇lova  burdur'], 'burdur'))\n",
    "df['CITY']=df['CITY'].replace(dict.fromkeys(['yenişehir', 'yenişehirmersi̇n', 'diyarbakır yenişehir',\n",
    "       'yenişehirdbakır', 'yenişehirmersin'], 'yenişehir'))\n",
    "df['CITY']=df['CITY'].replace(dict.fromkeys(['adanaçukurova', 'adana', 'seyhanadana', 'kozanadana',\n",
    "       'sarıçamadana'], 'adana'))\n",
    "df['CITY']=df['CITY'].replace(dict.fromkeys(['şırnak cizre', 'şırnak'], 'şırnak'))\n",
    "df['CITY']=df['CITY'].replace(dict.fromkeys(['balıkesir', 'balikesi̇r', 'balıkesirbandırma', 'balıkkesir'], 'balikesi̇r'))\n",
    "df['CITY']=df['CITY'].replace(dict.fromkeys(['edi̇rne', 'edirne keşan', 'edirne'], 'edirne'))\n",
    "df['CITY']=df['CITY'].replace(dict.fromkeys(['diyarbakır', 'diyarbakır  bağlar', 'diyarbakırbağlar',\n",
    "       'diyarbakır silvan', 'diyarbakir', 'bağlardiyarbakır',\n",
    "       'kulp diyarbakir'], 'diyarbakir'))\n",
    "df['CITY']=df['CITY'].replace(dict.fromkeys(['gebze', 'gebze kocaeli̇'], 'gebze'))\n",
    "df['CITY']=df['CITY'].replace(dict.fromkeys(['antalya', 'laraantalya', 'antalyamuratpaşa', 'muratpaşaantalya',\n",
    "       'antakya', 'kaşantalya', 'seri̇k antalya', 'alanya antalya',\n",
    "       'kepez antalya'], 'antalya'))\n",
    "df['CITY']=df['CITY'].replace(dict.fromkeys(['batman', 'gerçüşbatman'], 'gerçüş'))\n",
    "df['CITY']=df['CITY'].replace(dict.fromkeys(['zeytinburnu', 'zeytinburnui̇st', 'zeytinburnu '], 'zeytinburnu'))\n",
    "df['CITY']=df['CITY'].replace(dict.fromkeys(['malatyatemelli', 'malatya'], 'malatya'))\n",
    "df['CITY']=df['CITY'].replace(dict.fromkeys(['didimaydın', 'aydınnazilli', 'aydın', 'germencikaydın','nazilli'], 'aydın'))\n",
    "df['CITY']=df['CITY'].replace(dict.fromkeys(['bilecikbozüyük', 'bilecik', 'gölpazarıbilecik'], 'bilecik'))\n",
    "df['CITY']=df['CITY'].replace(dict.fromkeys(['kmaraş elbistan', 'elbistan'], 'elbistan'))\n",
    "df['CITY']=df['CITY'].replace(dict.fromkeys(['gaziantep   şehitkamil', 'gaziantep'], 'gaziantep'))\n",
    "df['CITY']=df['CITY'].replace(dict.fromkeys(['afyon', 'afyonkarahisar'], 'afyonkarahisar'))\n",
    "df['CITY']=df['CITY'].replace(dict.fromkeys(['kocaeli', 'kocaeliizmit', 'kocaeli izmit', 'kocaeliderince',\n",
    "       'kocaeli golcuk'], 'kocaeli'))\n",
    "df['CITY']=df['CITY'].replace(dict.fromkeys(['sinopgerze', 'sinop'], 'sinopgerze'))\n",
    "df['CITY']=df['CITY'].replace(dict.fromkeys([' ','1212', 'jdhsısus', 'sdasd', 'srfdgfdgdf', 'dfagdfgadgaddfg'], 'others'))"
   ]
  },
  {
   "cell_type": "code",
   "execution_count": 11,
   "id": "4139fe6a",
   "metadata": {},
   "outputs": [
    {
     "data": {
      "text/plain": [
       "istanbul             4827\n",
       "bursa                1656\n",
       "diyarbakir           1315\n",
       "ankara               1210\n",
       "izmir                1171\n",
       "                     ... \n",
       "erzurum yakutiye        1\n",
       "çubuk                   1\n",
       "tarsus                  1\n",
       "yalvac                  1\n",
       "di̇yarbakir             1\n",
       "Name: CITY, Length: 139, dtype: int64"
      ]
     },
     "execution_count": 11,
     "metadata": {},
     "output_type": "execute_result"
    }
   ],
   "source": [
    "df['CITY'].value_counts()"
   ]
  },
  {
   "cell_type": "markdown",
   "id": "7facd8af",
   "metadata": {},
   "source": [
    "#### *Observation: Many Unique city contains its own District in the CITY column which we will have it unchanged.*\n",
    "\n",
    "\n",
    "\n",
    "."
   ]
  },
  {
   "cell_type": "code",
   "execution_count": 12,
   "id": "5d71b5fe",
   "metadata": {},
   "outputs": [
    {
     "data": {
      "text/plain": [
       "array(['M', 'F', 'M  '], dtype=object)"
      ]
     },
     "execution_count": 12,
     "metadata": {},
     "output_type": "execute_result"
    }
   ],
   "source": [
    "# Checking Unique values in GENDER column\n",
    "df.GENDER.unique()"
   ]
  },
  {
   "cell_type": "markdown",
   "id": "03743462",
   "metadata": {},
   "source": [
    "#### *Observation: Gender column contains some duplicate unique value same as \"M\" .So,better to replace it.*"
   ]
  },
  {
   "cell_type": "code",
   "execution_count": 13,
   "id": "246cef6b",
   "metadata": {},
   "outputs": [],
   "source": [
    "df['GENDER']=df['GENDER'].replace(dict.fromkeys(['M  ','M'],'M'))"
   ]
  },
  {
   "cell_type": "markdown",
   "id": "a5e873b6",
   "metadata": {},
   "source": [
    "### Creating a Copy of the Clean data as \"data\""
   ]
  },
  {
   "cell_type": "code",
   "execution_count": 14,
   "id": "364bc54b",
   "metadata": {},
   "outputs": [
    {
     "data": {
      "text/html": [
       "<div>\n",
       "<style scoped>\n",
       "    .dataframe tbody tr th:only-of-type {\n",
       "        vertical-align: middle;\n",
       "    }\n",
       "\n",
       "    .dataframe tbody tr th {\n",
       "        vertical-align: top;\n",
       "    }\n",
       "\n",
       "    .dataframe thead th {\n",
       "        text-align: right;\n",
       "    }\n",
       "</style>\n",
       "<table border=\"1\" class=\"dataframe\">\n",
       "  <thead>\n",
       "    <tr style=\"text-align: right;\">\n",
       "      <th></th>\n",
       "      <th>IDCUSTOMER</th>\n",
       "      <th>GENDER</th>\n",
       "      <th>CITY</th>\n",
       "      <th>COUNTRY</th>\n",
       "      <th>FIRST_DEPOSIT_AMOUNT</th>\n",
       "      <th>REGISTRATION_DATE</th>\n",
       "      <th>DEPOSIT_DATE</th>\n",
       "    </tr>\n",
       "  </thead>\n",
       "  <tbody>\n",
       "    <tr>\n",
       "      <th>0</th>\n",
       "      <td>5075649</td>\n",
       "      <td>M</td>\n",
       "      <td>ankara</td>\n",
       "      <td>Turkey</td>\n",
       "      <td>100.0</td>\n",
       "      <td>2009-01-10</td>\n",
       "      <td>2022-06-05</td>\n",
       "    </tr>\n",
       "    <tr>\n",
       "      <th>1</th>\n",
       "      <td>5176235</td>\n",
       "      <td>M</td>\n",
       "      <td>elazığ</td>\n",
       "      <td>Turkey</td>\n",
       "      <td>400.0</td>\n",
       "      <td>2009-03-01</td>\n",
       "      <td>2022-02-11</td>\n",
       "    </tr>\n",
       "    <tr>\n",
       "      <th>2</th>\n",
       "      <td>5249140</td>\n",
       "      <td>M</td>\n",
       "      <td>izmir</td>\n",
       "      <td>Turkey</td>\n",
       "      <td>200.0</td>\n",
       "      <td>2009-04-06</td>\n",
       "      <td>2022-05-02</td>\n",
       "    </tr>\n",
       "    <tr>\n",
       "      <th>3</th>\n",
       "      <td>5300998</td>\n",
       "      <td>M</td>\n",
       "      <td>üsküdar</td>\n",
       "      <td>Turkey</td>\n",
       "      <td>100.0</td>\n",
       "      <td>2009-05-02</td>\n",
       "      <td>2022-02-11</td>\n",
       "    </tr>\n",
       "    <tr>\n",
       "      <th>4</th>\n",
       "      <td>5371454</td>\n",
       "      <td>M</td>\n",
       "      <td>sakarya</td>\n",
       "      <td>Turkey</td>\n",
       "      <td>880.0</td>\n",
       "      <td>2009-06-07</td>\n",
       "      <td>2022-05-29</td>\n",
       "    </tr>\n",
       "    <tr>\n",
       "      <th>...</th>\n",
       "      <td>...</td>\n",
       "      <td>...</td>\n",
       "      <td>...</td>\n",
       "      <td>...</td>\n",
       "      <td>...</td>\n",
       "      <td>...</td>\n",
       "      <td>...</td>\n",
       "    </tr>\n",
       "    <tr>\n",
       "      <th>22060</th>\n",
       "      <td>147844121</td>\n",
       "      <td>M</td>\n",
       "      <td>istanbul</td>\n",
       "      <td>Turkey</td>\n",
       "      <td>50.0</td>\n",
       "      <td>2022-08-31</td>\n",
       "      <td>2022-08-31</td>\n",
       "    </tr>\n",
       "    <tr>\n",
       "      <th>22061</th>\n",
       "      <td>147844491</td>\n",
       "      <td>M</td>\n",
       "      <td>eskişehir</td>\n",
       "      <td>Turkey</td>\n",
       "      <td>50.0</td>\n",
       "      <td>2022-08-31</td>\n",
       "      <td>2022-08-31</td>\n",
       "    </tr>\n",
       "    <tr>\n",
       "      <th>22062</th>\n",
       "      <td>147846481</td>\n",
       "      <td>M</td>\n",
       "      <td>van</td>\n",
       "      <td>Turkey</td>\n",
       "      <td>100.0</td>\n",
       "      <td>2022-08-31</td>\n",
       "      <td>2022-08-31</td>\n",
       "    </tr>\n",
       "    <tr>\n",
       "      <th>22063</th>\n",
       "      <td>147843561</td>\n",
       "      <td>M</td>\n",
       "      <td>antalya</td>\n",
       "      <td>Turkey</td>\n",
       "      <td>200.0</td>\n",
       "      <td>2022-08-31</td>\n",
       "      <td>2022-08-31</td>\n",
       "    </tr>\n",
       "    <tr>\n",
       "      <th>22064</th>\n",
       "      <td>147844971</td>\n",
       "      <td>M</td>\n",
       "      <td>istanbul</td>\n",
       "      <td>Turkey</td>\n",
       "      <td>150.0</td>\n",
       "      <td>2022-08-31</td>\n",
       "      <td>2022-08-31</td>\n",
       "    </tr>\n",
       "  </tbody>\n",
       "</table>\n",
       "<p>22065 rows × 7 columns</p>\n",
       "</div>"
      ],
      "text/plain": [
       "       IDCUSTOMER GENDER       CITY COUNTRY  FIRST_DEPOSIT_AMOUNT  \\\n",
       "0         5075649      M     ankara  Turkey                 100.0   \n",
       "1         5176235      M     elazığ  Turkey                 400.0   \n",
       "2         5249140      M      izmir  Turkey                 200.0   \n",
       "3         5300998      M    üsküdar  Turkey                 100.0   \n",
       "4         5371454      M    sakarya  Turkey                 880.0   \n",
       "...           ...    ...        ...     ...                   ...   \n",
       "22060   147844121      M   istanbul  Turkey                  50.0   \n",
       "22061   147844491      M  eskişehir  Turkey                  50.0   \n",
       "22062   147846481      M        van  Turkey                 100.0   \n",
       "22063   147843561      M    antalya  Turkey                 200.0   \n",
       "22064   147844971      M   istanbul  Turkey                 150.0   \n",
       "\n",
       "      REGISTRATION_DATE DEPOSIT_DATE  \n",
       "0            2009-01-10   2022-06-05  \n",
       "1            2009-03-01   2022-02-11  \n",
       "2            2009-04-06   2022-05-02  \n",
       "3            2009-05-02   2022-02-11  \n",
       "4            2009-06-07   2022-05-29  \n",
       "...                 ...          ...  \n",
       "22060        2022-08-31   2022-08-31  \n",
       "22061        2022-08-31   2022-08-31  \n",
       "22062        2022-08-31   2022-08-31  \n",
       "22063        2022-08-31   2022-08-31  \n",
       "22064        2022-08-31   2022-08-31  \n",
       "\n",
       "[22065 rows x 7 columns]"
      ]
     },
     "execution_count": 14,
     "metadata": {},
     "output_type": "execute_result"
    }
   ],
   "source": [
    "data=df.copy(deep=True)\n",
    "data"
   ]
  },
  {
   "cell_type": "code",
   "execution_count": 15,
   "id": "25d64ef5",
   "metadata": {},
   "outputs": [
    {
     "data": {
      "text/html": [
       "<div>\n",
       "<style scoped>\n",
       "    .dataframe tbody tr th:only-of-type {\n",
       "        vertical-align: middle;\n",
       "    }\n",
       "\n",
       "    .dataframe tbody tr th {\n",
       "        vertical-align: top;\n",
       "    }\n",
       "\n",
       "    .dataframe thead th {\n",
       "        text-align: right;\n",
       "    }\n",
       "</style>\n",
       "<table border=\"1\" class=\"dataframe\">\n",
       "  <thead>\n",
       "    <tr style=\"text-align: right;\">\n",
       "      <th></th>\n",
       "      <th>GENDER</th>\n",
       "      <th>CITY</th>\n",
       "      <th>COUNTRY</th>\n",
       "      <th>REGISTRATION_DATE</th>\n",
       "      <th>DEPOSIT_DATE</th>\n",
       "    </tr>\n",
       "  </thead>\n",
       "  <tbody>\n",
       "    <tr>\n",
       "      <th>count</th>\n",
       "      <td>22065</td>\n",
       "      <td>22065</td>\n",
       "      <td>22065</td>\n",
       "      <td>22065</td>\n",
       "      <td>22065</td>\n",
       "    </tr>\n",
       "    <tr>\n",
       "      <th>unique</th>\n",
       "      <td>2</td>\n",
       "      <td>139</td>\n",
       "      <td>1</td>\n",
       "      <td>1417</td>\n",
       "      <td>243</td>\n",
       "    </tr>\n",
       "    <tr>\n",
       "      <th>top</th>\n",
       "      <td>M</td>\n",
       "      <td>istanbul</td>\n",
       "      <td>Turkey</td>\n",
       "      <td>2022-03-22</td>\n",
       "      <td>2022-04-26</td>\n",
       "    </tr>\n",
       "    <tr>\n",
       "      <th>freq</th>\n",
       "      <td>21986</td>\n",
       "      <td>4827</td>\n",
       "      <td>22065</td>\n",
       "      <td>148</td>\n",
       "      <td>169</td>\n",
       "    </tr>\n",
       "  </tbody>\n",
       "</table>\n",
       "</div>"
      ],
      "text/plain": [
       "       GENDER      CITY COUNTRY REGISTRATION_DATE DEPOSIT_DATE\n",
       "count   22065     22065   22065             22065        22065\n",
       "unique      2       139       1              1417          243\n",
       "top         M  istanbul  Turkey        2022-03-22   2022-04-26\n",
       "freq    21986      4827   22065               148          169"
      ]
     },
     "execution_count": 15,
     "metadata": {},
     "output_type": "execute_result"
    }
   ],
   "source": [
    "data_cat=data.select_dtypes(include='object')\n",
    "data_cat.describe()"
   ]
  },
  {
   "cell_type": "code",
   "execution_count": 16,
   "id": "1461ce6b",
   "metadata": {},
   "outputs": [
    {
     "name": "stdout",
     "output_type": "stream",
     "text": [
      "<class 'pandas.core.frame.DataFrame'>\n",
      "RangeIndex: 22065 entries, 0 to 22064\n",
      "Data columns (total 7 columns):\n",
      " #   Column                Non-Null Count  Dtype         \n",
      "---  ------                --------------  -----         \n",
      " 0   IDCUSTOMER            22065 non-null  int64         \n",
      " 1   GENDER                22065 non-null  object        \n",
      " 2   CITY                  22065 non-null  object        \n",
      " 3   COUNTRY               22065 non-null  object        \n",
      " 4   FIRST_DEPOSIT_AMOUNT  22065 non-null  float64       \n",
      " 5   REGISTRATION_DATE     22065 non-null  datetime64[ns]\n",
      " 6   DEPOSIT_DATE          22065 non-null  datetime64[ns]\n",
      "dtypes: datetime64[ns](2), float64(1), int64(1), object(3)\n",
      "memory usage: 1.2+ MB\n"
     ]
    }
   ],
   "source": [
    "data[['DEPOSIT_DATE','REGISTRATION_DATE']] = data[['DEPOSIT_DATE','REGISTRATION_DATE']].apply(pd.to_datetime)\n",
    "data.info()"
   ]
  },
  {
   "cell_type": "code",
   "execution_count": 17,
   "id": "ca89c2b7",
   "metadata": {},
   "outputs": [
    {
     "data": {
      "text/plain": [
       "IDCUSTOMER              0\n",
       "GENDER                  0\n",
       "CITY                    0\n",
       "COUNTRY                 0\n",
       "FIRST_DEPOSIT_AMOUNT    0\n",
       "REGISTRATION_DATE       0\n",
       "DEPOSIT_DATE            0\n",
       "dtype: int64"
      ]
     },
     "execution_count": 17,
     "metadata": {},
     "output_type": "execute_result"
    }
   ],
   "source": [
    "# Checking for Nulls \n",
    "data.isnull().sum()"
   ]
  },
  {
   "cell_type": "code",
   "execution_count": 18,
   "id": "e1ef497b",
   "metadata": {},
   "outputs": [
    {
     "data": {
      "text/plain": [
       "M    21986\n",
       "F       79\n",
       "Name: GENDER, dtype: int64"
      ]
     },
     "execution_count": 18,
     "metadata": {},
     "output_type": "execute_result"
    }
   ],
   "source": [
    "data.GENDER.value_counts()"
   ]
  },
  {
   "cell_type": "code",
   "execution_count": 19,
   "id": "8f73ef26",
   "metadata": {},
   "outputs": [
    {
     "data": {
      "image/png": "[encoded data removed]",
      "text/plain": [
       "<Figure size 576x432 with 1 Axes>"
      ]
     },
     "metadata": {
      "needs_background": "light"
     },
     "output_type": "display_data"
    }
   ],
   "source": [
    "data.GENDER.value_counts().plot.bar(figsize=(8,6),title='Count by Gender by Registration')\n",
    "plt.xlabel('GENDER')\n",
    "plt.ylabel('value_counts')\n",
    "plt.xticks(rotation=0)\n",
    "plt.grid()"
   ]
  },
  {
   "cell_type": "markdown",
   "id": "53696720",
   "metadata": {},
   "source": [
    "#### *Observation: We can Notice one thing very important that very few  females have registered.*"
   ]
  },
  {
   "cell_type": "code",
   "execution_count": 20,
   "id": "e2dfba11",
   "metadata": {},
   "outputs": [
    {
     "data": {
      "text/plain": [
       "<AxesSubplot:>"
      ]
     },
     "execution_count": 20,
     "metadata": {},
     "output_type": "execute_result"
    },
    {
     "data": {
      "image/png": "[encoded data removed]",
      "text/plain": [
       "<Figure size 720x432 with 1 Axes>"
      ]
     },
     "metadata": {
      "needs_background": "light"
     },
     "output_type": "display_data"
    }
   ],
   "source": [
    "plt.figure(figsize=(10,6))\n",
    "data.boxplot(column='FIRST_DEPOSIT_AMOUNT')"
   ]
  },
  {
   "cell_type": "markdown",
   "id": "62fdaea7",
   "metadata": {},
   "source": [
    "#### *Observation: from the above Boxplot we can understand that there are a lot of outliers in the FIRST_DEPOSIT_AMOUNT columns which should not be treated beacuse we might loose alot of rows.*"
   ]
  },
  {
   "cell_type": "code",
   "execution_count": 21,
   "id": "10dc1390",
   "metadata": {},
   "outputs": [
    {
     "data": {
      "image/png": "[encoded data removed]",
      "text/plain": [
       "<Figure size 720x432 with 1 Axes>"
      ]
     },
     "metadata": {
      "needs_background": "light"
     },
     "output_type": "display_data"
    }
   ],
   "source": [
    "## To check the data Distribution in 'FIRST_DEPOSIT_AMOUNT' with respect to 'GENDER' using Scatter Plot.\n",
    "plt.figure(figsize=(10,6))\n",
    "plt.scatter(x='GENDER',y='FIRST_DEPOSIT_AMOUNT',data=data,color=\"green\")\n",
    "plt.xlabel('GENDER')\n",
    "plt.ylabel('FIRST_DEPOSIT_AMOUNT')\n",
    "plt.grid()\n",
    "plt.show()"
   ]
  },
  {
   "cell_type": "markdown",
   "id": "0823ec7b",
   "metadata": {},
   "source": [
    "#### *Observation: From the above plot we can understand that 'Male' have done a large amount of 1st Deposition compared to 'Females' .*"
   ]
  },
  {
   "cell_type": "markdown",
   "id": "6f60b725",
   "metadata": {},
   "source": [
    "### 3 - Calculate the time period in days for which the customer was active (days from first deposit date) and enter the value in a new column titled 'Customer Lifetime' & what is the lifetime in days for customer ID - 5371454"
   ]
  },
  {
   "cell_type": "code",
   "execution_count": 22,
   "id": "2b11b332",
   "metadata": {},
   "outputs": [
    {
     "data": {
      "text/html": [
       "<div>\n",
       "<style scoped>\n",
       "    .dataframe tbody tr th:only-of-type {\n",
       "        vertical-align: middle;\n",
       "    }\n",
       "\n",
       "    .dataframe tbody tr th {\n",
       "        vertical-align: top;\n",
       "    }\n",
       "\n",
       "    .dataframe thead th {\n",
       "        text-align: right;\n",
       "    }\n",
       "</style>\n",
       "<table border=\"1\" class=\"dataframe\">\n",
       "  <thead>\n",
       "    <tr style=\"text-align: right;\">\n",
       "      <th></th>\n",
       "      <th>IDCUSTOMER</th>\n",
       "      <th>GENDER</th>\n",
       "      <th>CITY</th>\n",
       "      <th>COUNTRY</th>\n",
       "      <th>FIRST_DEPOSIT_AMOUNT</th>\n",
       "      <th>REGISTRATION_DATE</th>\n",
       "      <th>DEPOSIT_DATE</th>\n",
       "      <th>Customer Lifetime</th>\n",
       "    </tr>\n",
       "  </thead>\n",
       "  <tbody>\n",
       "    <tr>\n",
       "      <th>0</th>\n",
       "      <td>5075649</td>\n",
       "      <td>M</td>\n",
       "      <td>ankara</td>\n",
       "      <td>Turkey</td>\n",
       "      <td>100.0</td>\n",
       "      <td>2009-01-10</td>\n",
       "      <td>2022-06-05</td>\n",
       "      <td>142 days</td>\n",
       "    </tr>\n",
       "    <tr>\n",
       "      <th>1</th>\n",
       "      <td>5176235</td>\n",
       "      <td>M</td>\n",
       "      <td>elazığ</td>\n",
       "      <td>Turkey</td>\n",
       "      <td>400.0</td>\n",
       "      <td>2009-03-01</td>\n",
       "      <td>2022-02-11</td>\n",
       "      <td>256 days</td>\n",
       "    </tr>\n",
       "    <tr>\n",
       "      <th>2</th>\n",
       "      <td>5249140</td>\n",
       "      <td>M</td>\n",
       "      <td>izmir</td>\n",
       "      <td>Turkey</td>\n",
       "      <td>200.0</td>\n",
       "      <td>2009-04-06</td>\n",
       "      <td>2022-05-02</td>\n",
       "      <td>176 days</td>\n",
       "    </tr>\n",
       "    <tr>\n",
       "      <th>3</th>\n",
       "      <td>5300998</td>\n",
       "      <td>M</td>\n",
       "      <td>üsküdar</td>\n",
       "      <td>Turkey</td>\n",
       "      <td>100.0</td>\n",
       "      <td>2009-05-02</td>\n",
       "      <td>2022-02-11</td>\n",
       "      <td>256 days</td>\n",
       "    </tr>\n",
       "    <tr>\n",
       "      <th>4</th>\n",
       "      <td>5371454</td>\n",
       "      <td>M</td>\n",
       "      <td>sakarya</td>\n",
       "      <td>Turkey</td>\n",
       "      <td>880.0</td>\n",
       "      <td>2009-06-07</td>\n",
       "      <td>2022-05-29</td>\n",
       "      <td>149 days</td>\n",
       "    </tr>\n",
       "  </tbody>\n",
       "</table>\n",
       "</div>"
      ],
      "text/plain": [
       "   IDCUSTOMER GENDER     CITY COUNTRY  FIRST_DEPOSIT_AMOUNT REGISTRATION_DATE  \\\n",
       "0     5075649      M   ankara  Turkey                 100.0        2009-01-10   \n",
       "1     5176235      M   elazığ  Turkey                 400.0        2009-03-01   \n",
       "2     5249140      M    izmir  Turkey                 200.0        2009-04-06   \n",
       "3     5300998      M  üsküdar  Turkey                 100.0        2009-05-02   \n",
       "4     5371454      M  sakarya  Turkey                 880.0        2009-06-07   \n",
       "\n",
       "  DEPOSIT_DATE Customer Lifetime  \n",
       "0   2022-06-05          142 days  \n",
       "1   2022-02-11          256 days  \n",
       "2   2022-05-02          176 days  \n",
       "3   2022-02-11          256 days  \n",
       "4   2022-05-29          149 days  "
      ]
     },
     "execution_count": 22,
     "metadata": {},
     "output_type": "execute_result"
    }
   ],
   "source": [
    "data['Customer Lifetime'] = datetime.date.today()-data.DEPOSIT_DATE.dt.date\n",
    "data.head()"
   ]
  },
  {
   "cell_type": "code",
   "execution_count": 23,
   "id": "b2600e8f",
   "metadata": {},
   "outputs": [
    {
     "data": {
      "text/plain": [
       "Index(['IDCUSTOMER', 'GENDER', 'CITY', 'COUNTRY', 'FIRST_DEPOSIT_AMOUNT',\n",
       "       'REGISTRATION_DATE', 'DEPOSIT_DATE', 'Customer Lifetime'],\n",
       "      dtype='object')"
      ]
     },
     "execution_count": 23,
     "metadata": {},
     "output_type": "execute_result"
    }
   ],
   "source": [
    "data.columns"
   ]
  },
  {
   "cell_type": "code",
   "execution_count": 24,
   "id": "db527457",
   "metadata": {},
   "outputs": [
    {
     "data": {
      "text/plain": [
       "4   149 days\n",
       "Name: Customer Lifetime, dtype: timedelta64[ns]"
      ]
     },
     "execution_count": 24,
     "metadata": {},
     "output_type": "execute_result"
    }
   ],
   "source": [
    "data[data['IDCUSTOMER']==5371454]['Customer Lifetime']"
   ]
  },
  {
   "cell_type": "markdown",
   "id": "107c10bf",
   "metadata": {},
   "source": [
    "#### *Conclusion : the Lifetime in days for Customer ID 5371454 is \" 145 \" days *\n",
    "#### (Note: the number of days will increase on the day of execution of this file by the user )."
   ]
  },
  {
   "cell_type": "code",
   "execution_count": null,
   "id": "44cf235c",
   "metadata": {},
   "outputs": [],
   "source": []
  },
  {
   "cell_type": "markdown",
   "id": "0ff5cc9c",
   "metadata": {},
   "source": [
    "### 4 - Find the city & country with the highest number of unique customers"
   ]
  },
  {
   "cell_type": "code",
   "execution_count": 25,
   "id": "3b2ea415",
   "metadata": {},
   "outputs": [
    {
     "data": {
      "text/plain": [
       "COUNTRY  CITY    \n",
       "Turkey   istanbul    4827\n",
       "Name: IDCUSTOMER, dtype: int64"
      ]
     },
     "execution_count": 25,
     "metadata": {},
     "output_type": "execute_result"
    }
   ],
   "source": [
    "df_cou_city_count = data.groupby(['COUNTRY','CITY'])['IDCUSTOMER'].size()\n",
    "df_cou_city_count[df_cou_city_count == df_cou_city_count.max()]"
   ]
  },
  {
   "cell_type": "markdown",
   "id": "086f39b4",
   "metadata": {},
   "source": [
    "####  *Conclusion : The city & country with the highest number of unique customers is city: \" İstanbul \" & Country: \" Turkey \".*"
   ]
  },
  {
   "cell_type": "markdown",
   "id": "62a3aa0f",
   "metadata": {},
   "source": [
    "### 5- Find the unique count of players in each country (in descending order) & specify the number of unique players from the city - Kayseri"
   ]
  },
  {
   "cell_type": "code",
   "execution_count": 26,
   "id": "02ab5736",
   "metadata": {},
   "outputs": [
    {
     "data": {
      "text/plain": [
       "COUNTRY\n",
       "Turkey    22065\n",
       "Name: IDCUSTOMER, dtype: int64"
      ]
     },
     "execution_count": 26,
     "metadata": {},
     "output_type": "execute_result"
    }
   ],
   "source": [
    "# Unique count of players in each country (in descending order)\n",
    "\n",
    "data.groupby(['COUNTRY'])['IDCUSTOMER'].size().sort_values(ascending= False)"
   ]
  },
  {
   "cell_type": "code",
   "execution_count": 27,
   "id": "8034c324",
   "metadata": {},
   "outputs": [
    {
     "data": {
      "text/plain": [
       "372"
      ]
     },
     "execution_count": 27,
     "metadata": {},
     "output_type": "execute_result"
    }
   ],
   "source": [
    "len(data.loc[data['CITY']=='Kayseri', 'IDCUSTOMER'].unique())"
   ]
  },
  {
   "cell_type": "markdown",
   "id": "a16ea6df",
   "metadata": {},
   "source": [
    "#### *Conclusion: The unique count of players in country \"Turkey\" is \"22065\" Since,only one Unique Country is present in the dataset i.e, 'Turkey' & The Number of unique players in the city \" Kayseri \" is \" 372 \".*\n",
    " "
   ]
  },
  {
   "cell_type": "markdown",
   "id": "285daf44",
   "metadata": {},
   "source": [
    "#### But if the question would have been like the unique count of players in each City (in descending order) then the solution is "
   ]
  },
  {
   "cell_type": "code",
   "execution_count": 28,
   "id": "9b5df257",
   "metadata": {},
   "outputs": [
    {
     "data": {
      "text/plain": [
       "CITY\n",
       "istanbul      4827\n",
       "bursa         1656\n",
       "diyarbakir    1315\n",
       "ankara        1210\n",
       "izmir         1171\n",
       "              ... \n",
       "pendi̇k          1\n",
       "başakşehir       1\n",
       "bayraklı         1\n",
       "sanliurfa        1\n",
       "fethiyr          1\n",
       "Name: IDCUSTOMER, Length: 139, dtype: int64"
      ]
     },
     "execution_count": 28,
     "metadata": {},
     "output_type": "execute_result"
    }
   ],
   "source": [
    "data.groupby(['CITY'])['IDCUSTOMER'].size().sort_values(ascending= False)"
   ]
  },
  {
   "cell_type": "markdown",
   "id": "58e72fbd",
   "metadata": {},
   "source": [
    "### OR"
   ]
  },
  {
   "cell_type": "code",
   "execution_count": 29,
   "id": "f4b566f6",
   "metadata": {},
   "outputs": [
    {
     "data": {
      "text/plain": [
       "istanbul             4827\n",
       "bursa                1656\n",
       "diyarbakir           1315\n",
       "ankara               1210\n",
       "izmir                1171\n",
       "                     ... \n",
       "erzurum yakutiye        1\n",
       "çubuk                   1\n",
       "tarsus                  1\n",
       "yalvac                  1\n",
       "di̇yarbakir             1\n",
       "Name: CITY, Length: 139, dtype: int64"
      ]
     },
     "execution_count": 29,
     "metadata": {},
     "output_type": "execute_result"
    }
   ],
   "source": [
    "data['CITY'].value_counts(ascending=False)"
   ]
  },
  {
   "cell_type": "code",
   "execution_count": null,
   "id": "a2a91069",
   "metadata": {},
   "outputs": [],
   "source": []
  },
  {
   "cell_type": "markdown",
   "id": "fd7e0001",
   "metadata": {},
   "source": [
    "### 6- Which city gives the third highest average first_deposit_amount and what is the average amount?"
   ]
  },
  {
   "cell_type": "code",
   "execution_count": 56,
   "id": "bb21a0cb",
   "metadata": {},
   "outputs": [
    {
     "data": {
      "text/html": [
       "<div>\n",
       "<style scoped>\n",
       "    .dataframe tbody tr th:only-of-type {\n",
       "        vertical-align: middle;\n",
       "    }\n",
       "\n",
       "    .dataframe tbody tr th {\n",
       "        vertical-align: top;\n",
       "    }\n",
       "\n",
       "    .dataframe thead th {\n",
       "        text-align: right;\n",
       "    }\n",
       "</style>\n",
       "<table border=\"1\" class=\"dataframe\">\n",
       "  <thead>\n",
       "    <tr style=\"text-align: right;\">\n",
       "      <th></th>\n",
       "      <th>CITY</th>\n",
       "      <th>AVG FIRST_DEPOSIT_AMOUNT</th>\n",
       "    </tr>\n",
       "  </thead>\n",
       "  <tbody>\n",
       "    <tr>\n",
       "      <th>22</th>\n",
       "      <td>başakşehir</td>\n",
       "      <td>2000.0</td>\n",
       "    </tr>\n",
       "    <tr>\n",
       "      <th>113</th>\n",
       "      <td>tepebaşıeskişehir</td>\n",
       "      <td>1500.0</td>\n",
       "    </tr>\n",
       "    <tr>\n",
       "      <th>115</th>\n",
       "      <td>tokatturhal</td>\n",
       "      <td>1500.0</td>\n",
       "    </tr>\n",
       "    <tr>\n",
       "      <th>56</th>\n",
       "      <td>gölbaşi</td>\n",
       "      <td>1000.0</td>\n",
       "    </tr>\n",
       "    <tr>\n",
       "      <th>28</th>\n",
       "      <td>buca</td>\n",
       "      <td>1000.0</td>\n",
       "    </tr>\n",
       "    <tr>\n",
       "      <th>...</th>\n",
       "      <td>...</td>\n",
       "      <td>...</td>\n",
       "    </tr>\n",
       "    <tr>\n",
       "      <th>49</th>\n",
       "      <td>fethiyemugla</td>\n",
       "      <td>50.0</td>\n",
       "    </tr>\n",
       "    <tr>\n",
       "      <th>47</th>\n",
       "      <td>eskısehır</td>\n",
       "      <td>50.0</td>\n",
       "    </tr>\n",
       "    <tr>\n",
       "      <th>123</th>\n",
       "      <td>vezirkoprü</td>\n",
       "      <td>50.0</td>\n",
       "    </tr>\n",
       "    <tr>\n",
       "      <th>111</th>\n",
       "      <td>tarsus</td>\n",
       "      <td>50.0</td>\n",
       "    </tr>\n",
       "    <tr>\n",
       "      <th>106</th>\n",
       "      <td>sanliurfa</td>\n",
       "      <td>50.0</td>\n",
       "    </tr>\n",
       "  </tbody>\n",
       "</table>\n",
       "<p>139 rows × 2 columns</p>\n",
       "</div>"
      ],
      "text/plain": [
       "                  CITY  AVG FIRST_DEPOSIT_AMOUNT\n",
       "22          başakşehir                    2000.0\n",
       "113  tepebaşıeskişehir                    1500.0\n",
       "115        tokatturhal                    1500.0\n",
       "56             gölbaşi                    1000.0\n",
       "28                buca                    1000.0\n",
       "..                 ...                       ...\n",
       "49        fethiyemugla                      50.0\n",
       "47           eskısehır                      50.0\n",
       "123         vezirkoprü                      50.0\n",
       "111             tarsus                      50.0\n",
       "106          sanliurfa                      50.0\n",
       "\n",
       "[139 rows x 2 columns]"
      ]
     },
     "execution_count": 56,
     "metadata": {},
     "output_type": "execute_result"
    }
   ],
   "source": [
    "new=data.pivot_table(index='CITY',values='FIRST_DEPOSIT_AMOUNT',aggfunc=np.mean)\n",
    "new.rename({'FIRST_DEPOSIT_AMOUNT':'AVG FIRST_DEPOSIT_AMOUNT'},axis='columns',inplace=True)\n",
    "\n",
    "new.reset_index(inplace=True)\n",
    "new.sort_values(by='AVG FIRST_DEPOSIT_AMOUNT',ascending=False)"
   ]
  },
  {
   "cell_type": "code",
   "execution_count": 31,
   "id": "9732f0b7",
   "metadata": {},
   "outputs": [
    {
     "data": {
      "text/plain": [
       "CITY                        tokatturhal\n",
       "AVG FIRST_DEPOSIT_AMOUNT         1500.0\n",
       "Name: 115, dtype: object"
      ]
     },
     "execution_count": 31,
     "metadata": {},
     "output_type": "execute_result"
    }
   ],
   "source": [
    "new.nlargest(3,'AVG FIRST_DEPOSIT_AMOUNT',keep='all').iloc[-1]"
   ]
  },
  {
   "cell_type": "markdown",
   "id": "5dc0575a",
   "metadata": {},
   "source": [
    "#### *Conclusion: \"sarıçam/Adana\" city gives the 3rd Highest average first_deposit_amount of \" 9000 \".*"
   ]
  },
  {
   "cell_type": "code",
   "execution_count": null,
   "id": "669e9738",
   "metadata": {},
   "outputs": [],
   "source": []
  },
  {
   "cell_type": "markdown",
   "id": "f7a789ff",
   "metadata": {},
   "source": [
    "### 7- Plot a graph showing the city and the descending unique count of the unique customers (upto the top 40 cities by the unique count) and make a large plot (clearly visible) and make sure the title and labels are clearly visible."
   ]
  },
  {
   "cell_type": "code",
   "execution_count": 32,
   "id": "816fb41b",
   "metadata": {
    "scrolled": false
   },
   "outputs": [
    {
     "data": {
      "image/png": "[encoded data removed]",
      "text/plain": [
       "<Figure size 1800x1080 with 1 Axes>"
      ]
     },
     "metadata": {
      "needs_background": "light"
     },
     "output_type": "display_data"
    }
   ],
   "source": [
    "### Count of Unique Customers with respect 'CITY'\n",
    "plt.figure(figsize = (25,15))\n",
    "data.groupby(['CITY'])['IDCUSTOMER'].size().sort_values(ascending= False).head(40).plot(kind='bar')\n",
    "plt.xlabel('CITY')\n",
    "plt.xticks(rotation = 45)\n",
    "plt.ylim(0,5800)\n",
    "plt.ylabel('Unique Customers Counts')\n",
    "plt.title('Count of Unique Customers with respect to CITY having more than 40 Counts')\n",
    "plt.grid()"
   ]
  },
  {
   "cell_type": "markdown",
   "id": "b61c5e8d",
   "metadata": {},
   "source": [
    "#### *Observation: The city \"Istanbul\" is the only city with more than 4000 Unique customer which means most of the customer from the Country \"Turkey\"  have Done their \"Registration\" in this City Compare to others.*"
   ]
  },
  {
   "cell_type": "code",
   "execution_count": null,
   "id": "71fcf091",
   "metadata": {},
   "outputs": [],
   "source": []
  },
  {
   "cell_type": "markdown",
   "id": "1bb4f307",
   "metadata": {},
   "source": [
    "### 8 - Plot the conversion for each month of the data (Conversion % = No. of unique First Deposits in the month / No. of unique Registrations in the month) Here, the conversion percentage should be reflected in red, and the labels in the X-axis should be year & month out of the Deposit Dates."
   ]
  },
  {
   "cell_type": "code",
   "execution_count": 33,
   "id": "6bc23eb9",
   "metadata": {},
   "outputs": [
    {
     "data": {
      "text/html": [
       "<div>\n",
       "<style scoped>\n",
       "    .dataframe tbody tr th:only-of-type {\n",
       "        vertical-align: middle;\n",
       "    }\n",
       "\n",
       "    .dataframe tbody tr th {\n",
       "        vertical-align: top;\n",
       "    }\n",
       "\n",
       "    .dataframe thead th {\n",
       "        text-align: right;\n",
       "    }\n",
       "</style>\n",
       "<table border=\"1\" class=\"dataframe\">\n",
       "  <thead>\n",
       "    <tr style=\"text-align: right;\">\n",
       "      <th></th>\n",
       "      <th>DEPOSIT_DATE</th>\n",
       "    </tr>\n",
       "  </thead>\n",
       "  <tbody>\n",
       "    <tr>\n",
       "      <th>2022-03</th>\n",
       "      <td>3790</td>\n",
       "    </tr>\n",
       "    <tr>\n",
       "      <th>2022-04</th>\n",
       "      <td>3386</td>\n",
       "    </tr>\n",
       "    <tr>\n",
       "      <th>2022-02</th>\n",
       "      <td>3202</td>\n",
       "    </tr>\n",
       "    <tr>\n",
       "      <th>2022-05</th>\n",
       "      <td>2983</td>\n",
       "    </tr>\n",
       "    <tr>\n",
       "      <th>2022-01</th>\n",
       "      <td>2555</td>\n",
       "    </tr>\n",
       "  </tbody>\n",
       "</table>\n",
       "</div>"
      ],
      "text/plain": [
       "         DEPOSIT_DATE\n",
       "2022-03          3790\n",
       "2022-04          3386\n",
       "2022-02          3202\n",
       "2022-05          2983\n",
       "2022-01          2555"
      ]
     },
     "execution_count": 33,
     "metadata": {},
     "output_type": "execute_result"
    }
   ],
   "source": [
    "# No. of unique First Deposits in the month\n",
    "Deposit_date=data['DEPOSIT_DATE'].dt.to_period('M').value_counts()\n",
    "df_dep_date=pd.DataFrame(Deposit_date)\n",
    "\n",
    "df_dep_date.head()"
   ]
  },
  {
   "cell_type": "code",
   "execution_count": 34,
   "id": "de982c8b",
   "metadata": {},
   "outputs": [
    {
     "data": {
      "text/html": [
       "<div>\n",
       "<style scoped>\n",
       "    .dataframe tbody tr th:only-of-type {\n",
       "        vertical-align: middle;\n",
       "    }\n",
       "\n",
       "    .dataframe tbody tr th {\n",
       "        vertical-align: top;\n",
       "    }\n",
       "\n",
       "    .dataframe thead th {\n",
       "        text-align: right;\n",
       "    }\n",
       "</style>\n",
       "<table border=\"1\" class=\"dataframe\">\n",
       "  <thead>\n",
       "    <tr style=\"text-align: right;\">\n",
       "      <th></th>\n",
       "      <th>REGISTRATION_DATE</th>\n",
       "    </tr>\n",
       "  </thead>\n",
       "  <tbody>\n",
       "    <tr>\n",
       "      <th>2022-03</th>\n",
       "      <td>3350</td>\n",
       "    </tr>\n",
       "    <tr>\n",
       "      <th>2022-02</th>\n",
       "      <td>2924</td>\n",
       "    </tr>\n",
       "    <tr>\n",
       "      <th>2022-04</th>\n",
       "      <td>2921</td>\n",
       "    </tr>\n",
       "    <tr>\n",
       "      <th>2022-05</th>\n",
       "      <td>2607</td>\n",
       "    </tr>\n",
       "    <tr>\n",
       "      <th>2022-01</th>\n",
       "      <td>2420</td>\n",
       "    </tr>\n",
       "  </tbody>\n",
       "</table>\n",
       "</div>"
      ],
      "text/plain": [
       "         REGISTRATION_DATE\n",
       "2022-03               3350\n",
       "2022-02               2924\n",
       "2022-04               2921\n",
       "2022-05               2607\n",
       "2022-01               2420"
      ]
     },
     "execution_count": 34,
     "metadata": {},
     "output_type": "execute_result"
    }
   ],
   "source": [
    "# No. of unique Registrations in the month\n",
    "REGISTRATION_DATE=data['REGISTRATION_DATE'].dt.to_period('M').value_counts()\n",
    "df_reg_cnt = pd.DataFrame(REGISTRATION_DATE)\n",
    "df_reg_cnt.head()"
   ]
  },
  {
   "cell_type": "code",
   "execution_count": 35,
   "id": "53dec41f",
   "metadata": {},
   "outputs": [
    {
     "data": {
      "text/html": [
       "<div>\n",
       "<style scoped>\n",
       "    .dataframe tbody tr th:only-of-type {\n",
       "        vertical-align: middle;\n",
       "    }\n",
       "\n",
       "    .dataframe tbody tr th {\n",
       "        vertical-align: top;\n",
       "    }\n",
       "\n",
       "    .dataframe thead th {\n",
       "        text-align: right;\n",
       "    }\n",
       "</style>\n",
       "<table border=\"1\" class=\"dataframe\">\n",
       "  <thead>\n",
       "    <tr style=\"text-align: right;\">\n",
       "      <th></th>\n",
       "      <th>REGISTRATION_DATE</th>\n",
       "      <th>DEPOSIT_DATE</th>\n",
       "      <th>Conversion %</th>\n",
       "    </tr>\n",
       "  </thead>\n",
       "  <tbody>\n",
       "    <tr>\n",
       "      <th>2022-03</th>\n",
       "      <td>3350</td>\n",
       "      <td>3790.0</td>\n",
       "      <td>113.13</td>\n",
       "    </tr>\n",
       "    <tr>\n",
       "      <th>2022-02</th>\n",
       "      <td>2924</td>\n",
       "      <td>3202.0</td>\n",
       "      <td>109.51</td>\n",
       "    </tr>\n",
       "    <tr>\n",
       "      <th>2022-04</th>\n",
       "      <td>2921</td>\n",
       "      <td>3386.0</td>\n",
       "      <td>115.92</td>\n",
       "    </tr>\n",
       "    <tr>\n",
       "      <th>2022-05</th>\n",
       "      <td>2607</td>\n",
       "      <td>2983.0</td>\n",
       "      <td>114.42</td>\n",
       "    </tr>\n",
       "    <tr>\n",
       "      <th>2022-01</th>\n",
       "      <td>2420</td>\n",
       "      <td>2555.0</td>\n",
       "      <td>105.58</td>\n",
       "    </tr>\n",
       "    <tr>\n",
       "      <th>...</th>\n",
       "      <td>...</td>\n",
       "      <td>...</td>\n",
       "      <td>...</td>\n",
       "    </tr>\n",
       "    <tr>\n",
       "      <th>2012-10</th>\n",
       "      <td>1</td>\n",
       "      <td>NaN</td>\n",
       "      <td>NaN</td>\n",
       "    </tr>\n",
       "    <tr>\n",
       "      <th>2013-04</th>\n",
       "      <td>1</td>\n",
       "      <td>NaN</td>\n",
       "      <td>NaN</td>\n",
       "    </tr>\n",
       "    <tr>\n",
       "      <th>2013-05</th>\n",
       "      <td>1</td>\n",
       "      <td>NaN</td>\n",
       "      <td>NaN</td>\n",
       "    </tr>\n",
       "    <tr>\n",
       "      <th>2013-06</th>\n",
       "      <td>1</td>\n",
       "      <td>NaN</td>\n",
       "      <td>NaN</td>\n",
       "    </tr>\n",
       "    <tr>\n",
       "      <th>2009-01</th>\n",
       "      <td>1</td>\n",
       "      <td>NaN</td>\n",
       "      <td>NaN</td>\n",
       "    </tr>\n",
       "  </tbody>\n",
       "</table>\n",
       "<p>152 rows × 3 columns</p>\n",
       "</div>"
      ],
      "text/plain": [
       "         REGISTRATION_DATE  DEPOSIT_DATE  Conversion %\n",
       "2022-03               3350        3790.0        113.13\n",
       "2022-02               2924        3202.0        109.51\n",
       "2022-04               2921        3386.0        115.92\n",
       "2022-05               2607        2983.0        114.42\n",
       "2022-01               2420        2555.0        105.58\n",
       "...                    ...           ...           ...\n",
       "2012-10                  1           NaN           NaN\n",
       "2013-04                  1           NaN           NaN\n",
       "2013-05                  1           NaN           NaN\n",
       "2013-06                  1           NaN           NaN\n",
       "2009-01                  1           NaN           NaN\n",
       "\n",
       "[152 rows x 3 columns]"
      ]
     },
     "execution_count": 35,
     "metadata": {},
     "output_type": "execute_result"
    }
   ],
   "source": [
    "df_reg_ct = df_reg_cnt.join(df_dep_date)\n",
    "df_reg_ct['Conversion %'] = (df_reg_ct.DEPOSIT_DATE / df_reg_ct.REGISTRATION_DATE).mul(100).round(2)\n",
    "df_reg_ct"
   ]
  },
  {
   "cell_type": "code",
   "execution_count": 36,
   "id": "37df7419",
   "metadata": {},
   "outputs": [
    {
     "data": {
      "text/html": [
       "<div>\n",
       "<style scoped>\n",
       "    .dataframe tbody tr th:only-of-type {\n",
       "        vertical-align: middle;\n",
       "    }\n",
       "\n",
       "    .dataframe tbody tr th {\n",
       "        vertical-align: top;\n",
       "    }\n",
       "\n",
       "    .dataframe thead th {\n",
       "        text-align: right;\n",
       "    }\n",
       "</style>\n",
       "<table border=\"1\" class=\"dataframe\">\n",
       "  <thead>\n",
       "    <tr style=\"text-align: right;\">\n",
       "      <th></th>\n",
       "      <th>DATE</th>\n",
       "      <th>Unique_Counts_Reg</th>\n",
       "      <th>Unique_Counts_Dep</th>\n",
       "      <th>Conversion %</th>\n",
       "    </tr>\n",
       "  </thead>\n",
       "  <tbody>\n",
       "    <tr>\n",
       "      <th>0</th>\n",
       "      <td>2022-03</td>\n",
       "      <td>3350</td>\n",
       "      <td>3790.0</td>\n",
       "      <td>113.13</td>\n",
       "    </tr>\n",
       "    <tr>\n",
       "      <th>1</th>\n",
       "      <td>2022-02</td>\n",
       "      <td>2924</td>\n",
       "      <td>3202.0</td>\n",
       "      <td>109.51</td>\n",
       "    </tr>\n",
       "    <tr>\n",
       "      <th>2</th>\n",
       "      <td>2022-04</td>\n",
       "      <td>2921</td>\n",
       "      <td>3386.0</td>\n",
       "      <td>115.92</td>\n",
       "    </tr>\n",
       "    <tr>\n",
       "      <th>3</th>\n",
       "      <td>2022-05</td>\n",
       "      <td>2607</td>\n",
       "      <td>2983.0</td>\n",
       "      <td>114.42</td>\n",
       "    </tr>\n",
       "    <tr>\n",
       "      <th>4</th>\n",
       "      <td>2022-01</td>\n",
       "      <td>2420</td>\n",
       "      <td>2555.0</td>\n",
       "      <td>105.58</td>\n",
       "    </tr>\n",
       "    <tr>\n",
       "      <th>...</th>\n",
       "      <td>...</td>\n",
       "      <td>...</td>\n",
       "      <td>...</td>\n",
       "      <td>...</td>\n",
       "    </tr>\n",
       "    <tr>\n",
       "      <th>147</th>\n",
       "      <td>2012-10</td>\n",
       "      <td>1</td>\n",
       "      <td>NaN</td>\n",
       "      <td>NaN</td>\n",
       "    </tr>\n",
       "    <tr>\n",
       "      <th>148</th>\n",
       "      <td>2013-04</td>\n",
       "      <td>1</td>\n",
       "      <td>NaN</td>\n",
       "      <td>NaN</td>\n",
       "    </tr>\n",
       "    <tr>\n",
       "      <th>149</th>\n",
       "      <td>2013-05</td>\n",
       "      <td>1</td>\n",
       "      <td>NaN</td>\n",
       "      <td>NaN</td>\n",
       "    </tr>\n",
       "    <tr>\n",
       "      <th>150</th>\n",
       "      <td>2013-06</td>\n",
       "      <td>1</td>\n",
       "      <td>NaN</td>\n",
       "      <td>NaN</td>\n",
       "    </tr>\n",
       "    <tr>\n",
       "      <th>151</th>\n",
       "      <td>2009-01</td>\n",
       "      <td>1</td>\n",
       "      <td>NaN</td>\n",
       "      <td>NaN</td>\n",
       "    </tr>\n",
       "  </tbody>\n",
       "</table>\n",
       "<p>152 rows × 4 columns</p>\n",
       "</div>"
      ],
      "text/plain": [
       "        DATE  Unique_Counts_Reg  Unique_Counts_Dep  Conversion %\n",
       "0    2022-03               3350             3790.0        113.13\n",
       "1    2022-02               2924             3202.0        109.51\n",
       "2    2022-04               2921             3386.0        115.92\n",
       "3    2022-05               2607             2983.0        114.42\n",
       "4    2022-01               2420             2555.0        105.58\n",
       "..       ...                ...                ...           ...\n",
       "147  2012-10                  1                NaN           NaN\n",
       "148  2013-04                  1                NaN           NaN\n",
       "149  2013-05                  1                NaN           NaN\n",
       "150  2013-06                  1                NaN           NaN\n",
       "151  2009-01                  1                NaN           NaN\n",
       "\n",
       "[152 rows x 4 columns]"
      ]
     },
     "execution_count": 36,
     "metadata": {},
     "output_type": "execute_result"
    }
   ],
   "source": [
    "df_reg_ct=df_reg_ct.reset_index()\n",
    "\n",
    "df_reg_ct.rename({'REGISTRATION_DATE':'Unique_Counts_Reg','index':'DATE','DEPOSIT_DATE':'Unique_Counts_Dep'},axis='columns',inplace=True)\n",
    "df_reg_ct"
   ]
  },
  {
   "cell_type": "code",
   "execution_count": 37,
   "id": "4cb45c4c",
   "metadata": {},
   "outputs": [
    {
     "data": {
      "text/plain": [
       "DATE                 8\n",
       "Unique_Counts_Reg    8\n",
       "Unique_Counts_Dep    8\n",
       "Conversion %         8\n",
       "dtype: int64"
      ]
     },
     "execution_count": 37,
     "metadata": {},
     "output_type": "execute_result"
    }
   ],
   "source": [
    "df_reg_ct[df_reg_ct['Conversion %'] > 0].count()"
   ]
  },
  {
   "cell_type": "code",
   "execution_count": 38,
   "id": "190656d0",
   "metadata": {},
   "outputs": [
    {
     "data": {
      "image/png": "[encoded data removed]",
      "text/plain": [
       "<Figure size 1440x720 with 1 Axes>"
      ]
     },
     "metadata": {
      "needs_background": "light"
     },
     "output_type": "display_data"
    }
   ],
   "source": [
    "plt.figure(figsize=(20,10))\n",
    "sns.barplot(x=df_reg_ct[df_reg_ct['Conversion %'] > 0]['DATE'].values, y='Conversion %', data=df_reg_ct[df_reg_ct['Conversion %'] > 0],color='r')\n",
    "plt.xlabel('Deposition Date in Year-Month')\n",
    "plt.title('Conversion % Vs Deposition Date')\n",
    "plt.xticks(rotation = 45)\n",
    "plt.show()"
   ]
  },
  {
   "cell_type": "markdown",
   "id": "136cb390",
   "metadata": {},
   "source": [
    "#### *Observation: As we can observe one most important thing from the data i.e,the customer who have registered before 2022 have done their 1st deposition only in the year 2022 that means all the depostion is done only in 2022,So even if we are calculating the Conversion % we will get the conversion rate above 100%.* "
   ]
  },
  {
   "cell_type": "code",
   "execution_count": null,
   "id": "01cf2bf2",
   "metadata": {},
   "outputs": [],
   "source": []
  },
  {
   "cell_type": "markdown",
   "id": "bea21fbe",
   "metadata": {},
   "source": [
    "### 9- What was the conversion rate in June 2022, limit the answer to 2 decimal places. (in %)"
   ]
  },
  {
   "cell_type": "code",
   "execution_count": 39,
   "id": "ae6504c7",
   "metadata": {},
   "outputs": [
    {
     "data": {
      "text/html": [
       "<div>\n",
       "<style scoped>\n",
       "    .dataframe tbody tr th:only-of-type {\n",
       "        vertical-align: middle;\n",
       "    }\n",
       "\n",
       "    .dataframe tbody tr th {\n",
       "        vertical-align: top;\n",
       "    }\n",
       "\n",
       "    .dataframe thead th {\n",
       "        text-align: right;\n",
       "    }\n",
       "</style>\n",
       "<table border=\"1\" class=\"dataframe\">\n",
       "  <thead>\n",
       "    <tr style=\"text-align: right;\">\n",
       "      <th></th>\n",
       "      <th>DATE</th>\n",
       "      <th>Unique_Counts_Reg</th>\n",
       "      <th>Unique_Counts_Dep</th>\n",
       "      <th>Conversion %</th>\n",
       "    </tr>\n",
       "  </thead>\n",
       "  <tbody>\n",
       "    <tr>\n",
       "      <th>0</th>\n",
       "      <td>2022-03</td>\n",
       "      <td>3350</td>\n",
       "      <td>3790.0</td>\n",
       "      <td>113.13</td>\n",
       "    </tr>\n",
       "    <tr>\n",
       "      <th>1</th>\n",
       "      <td>2022-02</td>\n",
       "      <td>2924</td>\n",
       "      <td>3202.0</td>\n",
       "      <td>109.51</td>\n",
       "    </tr>\n",
       "    <tr>\n",
       "      <th>2</th>\n",
       "      <td>2022-04</td>\n",
       "      <td>2921</td>\n",
       "      <td>3386.0</td>\n",
       "      <td>115.92</td>\n",
       "    </tr>\n",
       "    <tr>\n",
       "      <th>3</th>\n",
       "      <td>2022-05</td>\n",
       "      <td>2607</td>\n",
       "      <td>2983.0</td>\n",
       "      <td>114.42</td>\n",
       "    </tr>\n",
       "    <tr>\n",
       "      <th>4</th>\n",
       "      <td>2022-01</td>\n",
       "      <td>2420</td>\n",
       "      <td>2555.0</td>\n",
       "      <td>105.58</td>\n",
       "    </tr>\n",
       "  </tbody>\n",
       "</table>\n",
       "</div>"
      ],
      "text/plain": [
       "      DATE  Unique_Counts_Reg  Unique_Counts_Dep  Conversion %\n",
       "0  2022-03               3350             3790.0        113.13\n",
       "1  2022-02               2924             3202.0        109.51\n",
       "2  2022-04               2921             3386.0        115.92\n",
       "3  2022-05               2607             2983.0        114.42\n",
       "4  2022-01               2420             2555.0        105.58"
      ]
     },
     "execution_count": 39,
     "metadata": {},
     "output_type": "execute_result"
    }
   ],
   "source": [
    "df_reg_ct.head()"
   ]
  },
  {
   "cell_type": "code",
   "execution_count": 40,
   "id": "bbbc568c",
   "metadata": {},
   "outputs": [
    {
     "data": {
      "text/html": [
       "<div>\n",
       "<style scoped>\n",
       "    .dataframe tbody tr th:only-of-type {\n",
       "        vertical-align: middle;\n",
       "    }\n",
       "\n",
       "    .dataframe tbody tr th {\n",
       "        vertical-align: top;\n",
       "    }\n",
       "\n",
       "    .dataframe thead th {\n",
       "        text-align: right;\n",
       "    }\n",
       "</style>\n",
       "<table border=\"1\" class=\"dataframe\">\n",
       "  <thead>\n",
       "    <tr style=\"text-align: right;\">\n",
       "      <th></th>\n",
       "      <th>DATE</th>\n",
       "      <th>Unique_Counts_Reg</th>\n",
       "      <th>Unique_Counts_Dep</th>\n",
       "      <th>Conversion %</th>\n",
       "    </tr>\n",
       "  </thead>\n",
       "  <tbody>\n",
       "    <tr>\n",
       "      <th>6</th>\n",
       "      <td>2022-07</td>\n",
       "      <td>1840</td>\n",
       "      <td>1842.0</td>\n",
       "      <td>100.11</td>\n",
       "    </tr>\n",
       "  </tbody>\n",
       "</table>\n",
       "</div>"
      ],
      "text/plain": [
       "      DATE  Unique_Counts_Reg  Unique_Counts_Dep  Conversion %\n",
       "6  2022-07               1840             1842.0        100.11"
      ]
     },
     "execution_count": 40,
     "metadata": {},
     "output_type": "execute_result"
    }
   ],
   "source": [
    "df_reg_ct[df_reg_ct['DATE']=='2022-07']"
   ]
  },
  {
   "cell_type": "markdown",
   "id": "be3774d7",
   "metadata": {},
   "source": [
    "#### *Conclusion: The Conversion % in 2022 June is \" 100.11 \" which is higher because Customer who registered before 2022 are doing their 1st deposition in the year of 2022.*"
   ]
  },
  {
   "cell_type": "code",
   "execution_count": null,
   "id": "beb579d1",
   "metadata": {},
   "outputs": [],
   "source": []
  },
  {
   "cell_type": "markdown",
   "id": "18a129f5",
   "metadata": {},
   "source": [
    "### 10. Make a copy of the original data in the file assignment_python as a pandas dataframe called 'df_ft' and generate the following columns:\n",
    "     1. week of day column from the deposit date column\n",
    "     2. descriptive statistics of the table\n",
    "     3. make a column with the first_deposit_amounts binned in bins of 500 and reflected against every customer ID (for example, someone with a first deposit amount of 880 should reflect in the binning column as '500-1000'."
   ]
  },
  {
   "cell_type": "markdown",
   "id": "3808f2a1",
   "metadata": {},
   "source": [
    "#### 1. week of day column from the deposit date column"
   ]
  },
  {
   "cell_type": "code",
   "execution_count": 41,
   "id": "1ac4e931",
   "metadata": {},
   "outputs": [
    {
     "data": {
      "text/html": [
       "<div>\n",
       "<style scoped>\n",
       "    .dataframe tbody tr th:only-of-type {\n",
       "        vertical-align: middle;\n",
       "    }\n",
       "\n",
       "    .dataframe tbody tr th {\n",
       "        vertical-align: top;\n",
       "    }\n",
       "\n",
       "    .dataframe thead th {\n",
       "        text-align: right;\n",
       "    }\n",
       "</style>\n",
       "<table border=\"1\" class=\"dataframe\">\n",
       "  <thead>\n",
       "    <tr style=\"text-align: right;\">\n",
       "      <th></th>\n",
       "      <th>IDCUSTOMER</th>\n",
       "      <th>GENDER</th>\n",
       "      <th>CITY</th>\n",
       "      <th>COUNTRY</th>\n",
       "      <th>FIRST_DEPOSIT_AMOUNT</th>\n",
       "      <th>REGISTRATION_DATE</th>\n",
       "      <th>DEPOSIT_DATE</th>\n",
       "    </tr>\n",
       "  </thead>\n",
       "  <tbody>\n",
       "    <tr>\n",
       "      <th>0</th>\n",
       "      <td>5075649</td>\n",
       "      <td>M</td>\n",
       "      <td>ankara</td>\n",
       "      <td>Turkey</td>\n",
       "      <td>100.0</td>\n",
       "      <td>2009-01-10</td>\n",
       "      <td>2022-06-05</td>\n",
       "    </tr>\n",
       "    <tr>\n",
       "      <th>1</th>\n",
       "      <td>5176235</td>\n",
       "      <td>M</td>\n",
       "      <td>elazığ</td>\n",
       "      <td>Turkey</td>\n",
       "      <td>400.0</td>\n",
       "      <td>2009-03-01</td>\n",
       "      <td>2022-02-11</td>\n",
       "    </tr>\n",
       "    <tr>\n",
       "      <th>2</th>\n",
       "      <td>5249140</td>\n",
       "      <td>M</td>\n",
       "      <td>izmir</td>\n",
       "      <td>Turkey</td>\n",
       "      <td>200.0</td>\n",
       "      <td>2009-04-06</td>\n",
       "      <td>2022-05-02</td>\n",
       "    </tr>\n",
       "    <tr>\n",
       "      <th>3</th>\n",
       "      <td>5300998</td>\n",
       "      <td>M</td>\n",
       "      <td>Üsküdar</td>\n",
       "      <td>Turkey</td>\n",
       "      <td>100.0</td>\n",
       "      <td>2009-05-02</td>\n",
       "      <td>2022-02-11</td>\n",
       "    </tr>\n",
       "    <tr>\n",
       "      <th>4</th>\n",
       "      <td>5371454</td>\n",
       "      <td>M</td>\n",
       "      <td>sakarya</td>\n",
       "      <td>Turkey</td>\n",
       "      <td>880.0</td>\n",
       "      <td>2009-06-07</td>\n",
       "      <td>2022-05-29</td>\n",
       "    </tr>\n",
       "    <tr>\n",
       "      <th>...</th>\n",
       "      <td>...</td>\n",
       "      <td>...</td>\n",
       "      <td>...</td>\n",
       "      <td>...</td>\n",
       "      <td>...</td>\n",
       "      <td>...</td>\n",
       "      <td>...</td>\n",
       "    </tr>\n",
       "    <tr>\n",
       "      <th>22060</th>\n",
       "      <td>147844121</td>\n",
       "      <td>M</td>\n",
       "      <td>İstanbul</td>\n",
       "      <td>Turkey</td>\n",
       "      <td>50.0</td>\n",
       "      <td>2022-08-31</td>\n",
       "      <td>2022-08-31</td>\n",
       "    </tr>\n",
       "    <tr>\n",
       "      <th>22061</th>\n",
       "      <td>147844491</td>\n",
       "      <td>M</td>\n",
       "      <td>Eskişehir</td>\n",
       "      <td>Turkey</td>\n",
       "      <td>50.0</td>\n",
       "      <td>2022-08-31</td>\n",
       "      <td>2022-08-31</td>\n",
       "    </tr>\n",
       "    <tr>\n",
       "      <th>22062</th>\n",
       "      <td>147846481</td>\n",
       "      <td>M</td>\n",
       "      <td>Van</td>\n",
       "      <td>Turkey</td>\n",
       "      <td>100.0</td>\n",
       "      <td>2022-08-31</td>\n",
       "      <td>2022-08-31</td>\n",
       "    </tr>\n",
       "    <tr>\n",
       "      <th>22063</th>\n",
       "      <td>147843561</td>\n",
       "      <td>M</td>\n",
       "      <td>Antalya</td>\n",
       "      <td>Turkey</td>\n",
       "      <td>200.0</td>\n",
       "      <td>2022-08-31</td>\n",
       "      <td>2022-08-31</td>\n",
       "    </tr>\n",
       "    <tr>\n",
       "      <th>22064</th>\n",
       "      <td>147844971</td>\n",
       "      <td>M</td>\n",
       "      <td>İstanbul</td>\n",
       "      <td>Turkey</td>\n",
       "      <td>150.0</td>\n",
       "      <td>2022-08-31</td>\n",
       "      <td>2022-08-31</td>\n",
       "    </tr>\n",
       "  </tbody>\n",
       "</table>\n",
       "<p>22065 rows × 7 columns</p>\n",
       "</div>"
      ],
      "text/plain": [
       "       IDCUSTOMER GENDER       CITY COUNTRY  FIRST_DEPOSIT_AMOUNT  \\\n",
       "0         5075649      M     ankara  Turkey                 100.0   \n",
       "1         5176235      M     elazığ  Turkey                 400.0   \n",
       "2         5249140      M      izmir  Turkey                 200.0   \n",
       "3         5300998      M    Üsküdar  Turkey                 100.0   \n",
       "4         5371454      M    sakarya  Turkey                 880.0   \n",
       "...           ...    ...        ...     ...                   ...   \n",
       "22060   147844121      M   İstanbul  Turkey                  50.0   \n",
       "22061   147844491      M  Eskişehir  Turkey                  50.0   \n",
       "22062   147846481      M        Van  Turkey                 100.0   \n",
       "22063   147843561      M    Antalya  Turkey                 200.0   \n",
       "22064   147844971      M   İstanbul  Turkey                 150.0   \n",
       "\n",
       "      REGISTRATION_DATE DEPOSIT_DATE  \n",
       "0            2009-01-10   2022-06-05  \n",
       "1            2009-03-01   2022-02-11  \n",
       "2            2009-04-06   2022-05-02  \n",
       "3            2009-05-02   2022-02-11  \n",
       "4            2009-06-07   2022-05-29  \n",
       "...                 ...          ...  \n",
       "22060        2022-08-31   2022-08-31  \n",
       "22061        2022-08-31   2022-08-31  \n",
       "22062        2022-08-31   2022-08-31  \n",
       "22063        2022-08-31   2022-08-31  \n",
       "22064        2022-08-31   2022-08-31  \n",
       "\n",
       "[22065 rows x 7 columns]"
      ]
     },
     "execution_count": 41,
     "metadata": {},
     "output_type": "execute_result"
    }
   ],
   "source": [
    "df_ft=df1.copy(deep=True)\n",
    "df_ft"
   ]
  },
  {
   "cell_type": "code",
   "execution_count": 42,
   "id": "0242e337",
   "metadata": {},
   "outputs": [
    {
     "data": {
      "text/html": [
       "<div>\n",
       "<style scoped>\n",
       "    .dataframe tbody tr th:only-of-type {\n",
       "        vertical-align: middle;\n",
       "    }\n",
       "\n",
       "    .dataframe tbody tr th {\n",
       "        vertical-align: top;\n",
       "    }\n",
       "\n",
       "    .dataframe thead th {\n",
       "        text-align: right;\n",
       "    }\n",
       "</style>\n",
       "<table border=\"1\" class=\"dataframe\">\n",
       "  <thead>\n",
       "    <tr style=\"text-align: right;\">\n",
       "      <th></th>\n",
       "      <th>IDCUSTOMER</th>\n",
       "      <th>GENDER</th>\n",
       "      <th>CITY</th>\n",
       "      <th>COUNTRY</th>\n",
       "      <th>FIRST_DEPOSIT_AMOUNT</th>\n",
       "      <th>REGISTRATION_DATE</th>\n",
       "      <th>DEPOSIT_DATE</th>\n",
       "      <th>Week_of_day</th>\n",
       "    </tr>\n",
       "  </thead>\n",
       "  <tbody>\n",
       "    <tr>\n",
       "      <th>0</th>\n",
       "      <td>5075649</td>\n",
       "      <td>M</td>\n",
       "      <td>ankara</td>\n",
       "      <td>Turkey</td>\n",
       "      <td>100.0</td>\n",
       "      <td>2009-01-10</td>\n",
       "      <td>2022-06-05</td>\n",
       "      <td>Sunday</td>\n",
       "    </tr>\n",
       "    <tr>\n",
       "      <th>1</th>\n",
       "      <td>5176235</td>\n",
       "      <td>M</td>\n",
       "      <td>elazığ</td>\n",
       "      <td>Turkey</td>\n",
       "      <td>400.0</td>\n",
       "      <td>2009-03-01</td>\n",
       "      <td>2022-02-11</td>\n",
       "      <td>Friday</td>\n",
       "    </tr>\n",
       "    <tr>\n",
       "      <th>2</th>\n",
       "      <td>5249140</td>\n",
       "      <td>M</td>\n",
       "      <td>izmir</td>\n",
       "      <td>Turkey</td>\n",
       "      <td>200.0</td>\n",
       "      <td>2009-04-06</td>\n",
       "      <td>2022-05-02</td>\n",
       "      <td>Monday</td>\n",
       "    </tr>\n",
       "    <tr>\n",
       "      <th>3</th>\n",
       "      <td>5300998</td>\n",
       "      <td>M</td>\n",
       "      <td>Üsküdar</td>\n",
       "      <td>Turkey</td>\n",
       "      <td>100.0</td>\n",
       "      <td>2009-05-02</td>\n",
       "      <td>2022-02-11</td>\n",
       "      <td>Friday</td>\n",
       "    </tr>\n",
       "    <tr>\n",
       "      <th>4</th>\n",
       "      <td>5371454</td>\n",
       "      <td>M</td>\n",
       "      <td>sakarya</td>\n",
       "      <td>Turkey</td>\n",
       "      <td>880.0</td>\n",
       "      <td>2009-06-07</td>\n",
       "      <td>2022-05-29</td>\n",
       "      <td>Sunday</td>\n",
       "    </tr>\n",
       "    <tr>\n",
       "      <th>...</th>\n",
       "      <td>...</td>\n",
       "      <td>...</td>\n",
       "      <td>...</td>\n",
       "      <td>...</td>\n",
       "      <td>...</td>\n",
       "      <td>...</td>\n",
       "      <td>...</td>\n",
       "      <td>...</td>\n",
       "    </tr>\n",
       "    <tr>\n",
       "      <th>22060</th>\n",
       "      <td>147844121</td>\n",
       "      <td>M</td>\n",
       "      <td>İstanbul</td>\n",
       "      <td>Turkey</td>\n",
       "      <td>50.0</td>\n",
       "      <td>2022-08-31</td>\n",
       "      <td>2022-08-31</td>\n",
       "      <td>Wednesday</td>\n",
       "    </tr>\n",
       "    <tr>\n",
       "      <th>22061</th>\n",
       "      <td>147844491</td>\n",
       "      <td>M</td>\n",
       "      <td>Eskişehir</td>\n",
       "      <td>Turkey</td>\n",
       "      <td>50.0</td>\n",
       "      <td>2022-08-31</td>\n",
       "      <td>2022-08-31</td>\n",
       "      <td>Wednesday</td>\n",
       "    </tr>\n",
       "    <tr>\n",
       "      <th>22062</th>\n",
       "      <td>147846481</td>\n",
       "      <td>M</td>\n",
       "      <td>Van</td>\n",
       "      <td>Turkey</td>\n",
       "      <td>100.0</td>\n",
       "      <td>2022-08-31</td>\n",
       "      <td>2022-08-31</td>\n",
       "      <td>Wednesday</td>\n",
       "    </tr>\n",
       "    <tr>\n",
       "      <th>22063</th>\n",
       "      <td>147843561</td>\n",
       "      <td>M</td>\n",
       "      <td>Antalya</td>\n",
       "      <td>Turkey</td>\n",
       "      <td>200.0</td>\n",
       "      <td>2022-08-31</td>\n",
       "      <td>2022-08-31</td>\n",
       "      <td>Wednesday</td>\n",
       "    </tr>\n",
       "    <tr>\n",
       "      <th>22064</th>\n",
       "      <td>147844971</td>\n",
       "      <td>M</td>\n",
       "      <td>İstanbul</td>\n",
       "      <td>Turkey</td>\n",
       "      <td>150.0</td>\n",
       "      <td>2022-08-31</td>\n",
       "      <td>2022-08-31</td>\n",
       "      <td>Wednesday</td>\n",
       "    </tr>\n",
       "  </tbody>\n",
       "</table>\n",
       "<p>22065 rows × 8 columns</p>\n",
       "</div>"
      ],
      "text/plain": [
       "       IDCUSTOMER GENDER       CITY COUNTRY  FIRST_DEPOSIT_AMOUNT  \\\n",
       "0         5075649      M     ankara  Turkey                 100.0   \n",
       "1         5176235      M     elazığ  Turkey                 400.0   \n",
       "2         5249140      M      izmir  Turkey                 200.0   \n",
       "3         5300998      M    Üsküdar  Turkey                 100.0   \n",
       "4         5371454      M    sakarya  Turkey                 880.0   \n",
       "...           ...    ...        ...     ...                   ...   \n",
       "22060   147844121      M   İstanbul  Turkey                  50.0   \n",
       "22061   147844491      M  Eskişehir  Turkey                  50.0   \n",
       "22062   147846481      M        Van  Turkey                 100.0   \n",
       "22063   147843561      M    Antalya  Turkey                 200.0   \n",
       "22064   147844971      M   İstanbul  Turkey                 150.0   \n",
       "\n",
       "      REGISTRATION_DATE DEPOSIT_DATE Week_of_day  \n",
       "0            2009-01-10   2022-06-05      Sunday  \n",
       "1            2009-03-01   2022-02-11      Friday  \n",
       "2            2009-04-06   2022-05-02      Monday  \n",
       "3            2009-05-02   2022-02-11      Friday  \n",
       "4            2009-06-07   2022-05-29      Sunday  \n",
       "...                 ...          ...         ...  \n",
       "22060        2022-08-31   2022-08-31   Wednesday  \n",
       "22061        2022-08-31   2022-08-31   Wednesday  \n",
       "22062        2022-08-31   2022-08-31   Wednesday  \n",
       "22063        2022-08-31   2022-08-31   Wednesday  \n",
       "22064        2022-08-31   2022-08-31   Wednesday  \n",
       "\n",
       "[22065 rows x 8 columns]"
      ]
     },
     "execution_count": 42,
     "metadata": {},
     "output_type": "execute_result"
    }
   ],
   "source": [
    "df_ft[['DEPOSIT_DATE','REGISTRATION_DATE']] = df_ft[['DEPOSIT_DATE','REGISTRATION_DATE']].apply(pd.to_datetime)\n",
    "df_ft['Week_of_day']=df_ft['DEPOSIT_DATE'].dt.day_name()\n",
    "df_ft"
   ]
  },
  {
   "cell_type": "code",
   "execution_count": 43,
   "id": "7de820a5",
   "metadata": {},
   "outputs": [
    {
     "data": {
      "text/plain": [
       "İstanbul            4770\n",
       "Bursa               1652\n",
       "Diyarbakır          1307\n",
       "Ankara              1182\n",
       "İzmir               1151\n",
       "                    ... \n",
       "çorlu tekirdağ         1\n",
       "istanbul/sarıyer       1\n",
       "ksk                    1\n",
       "edirne keşan           1\n",
       "Batman Merkez          1\n",
       "Name: CITY, Length: 331, dtype: int64"
      ]
     },
     "execution_count": 43,
     "metadata": {},
     "output_type": "execute_result"
    }
   ],
   "source": [
    "df_ft['CITY'].value_counts()"
   ]
  },
  {
   "cell_type": "markdown",
   "id": "6fb37164",
   "metadata": {},
   "source": [
    "#### 2. descriptive statistics of the table"
   ]
  },
  {
   "cell_type": "code",
   "execution_count": 44,
   "id": "f8f5aa98",
   "metadata": {},
   "outputs": [
    {
     "data": {
      "text/html": [
       "<div>\n",
       "<style scoped>\n",
       "    .dataframe tbody tr th:only-of-type {\n",
       "        vertical-align: middle;\n",
       "    }\n",
       "\n",
       "    .dataframe tbody tr th {\n",
       "        vertical-align: top;\n",
       "    }\n",
       "\n",
       "    .dataframe thead th {\n",
       "        text-align: right;\n",
       "    }\n",
       "</style>\n",
       "<table border=\"1\" class=\"dataframe\">\n",
       "  <thead>\n",
       "    <tr style=\"text-align: right;\">\n",
       "      <th></th>\n",
       "      <th>IDCUSTOMER</th>\n",
       "      <th>FIRST_DEPOSIT_AMOUNT</th>\n",
       "    </tr>\n",
       "  </thead>\n",
       "  <tbody>\n",
       "    <tr>\n",
       "      <th>count</th>\n",
       "      <td>2.206500e+04</td>\n",
       "      <td>22065.000000</td>\n",
       "    </tr>\n",
       "    <tr>\n",
       "      <th>mean</th>\n",
       "      <td>1.380593e+08</td>\n",
       "      <td>284.806530</td>\n",
       "    </tr>\n",
       "    <tr>\n",
       "      <th>std</th>\n",
       "      <td>3.272693e+07</td>\n",
       "      <td>943.993064</td>\n",
       "    </tr>\n",
       "    <tr>\n",
       "      <th>min</th>\n",
       "      <td>5.075649e+06</td>\n",
       "      <td>0.380000</td>\n",
       "    </tr>\n",
       "    <tr>\n",
       "      <th>25%</th>\n",
       "      <td>1.459097e+08</td>\n",
       "      <td>70.000000</td>\n",
       "    </tr>\n",
       "    <tr>\n",
       "      <th>50%</th>\n",
       "      <td>1.465139e+08</td>\n",
       "      <td>100.000000</td>\n",
       "    </tr>\n",
       "    <tr>\n",
       "      <th>75%</th>\n",
       "      <td>1.471483e+08</td>\n",
       "      <td>250.000000</td>\n",
       "    </tr>\n",
       "    <tr>\n",
       "      <th>max</th>\n",
       "      <td>1.478480e+08</td>\n",
       "      <td>100000.000000</td>\n",
       "    </tr>\n",
       "  </tbody>\n",
       "</table>\n",
       "</div>"
      ],
      "text/plain": [
       "         IDCUSTOMER  FIRST_DEPOSIT_AMOUNT\n",
       "count  2.206500e+04          22065.000000\n",
       "mean   1.380593e+08            284.806530\n",
       "std    3.272693e+07            943.993064\n",
       "min    5.075649e+06              0.380000\n",
       "25%    1.459097e+08             70.000000\n",
       "50%    1.465139e+08            100.000000\n",
       "75%    1.471483e+08            250.000000\n",
       "max    1.478480e+08         100000.000000"
      ]
     },
     "execution_count": 44,
     "metadata": {},
     "output_type": "execute_result"
    }
   ],
   "source": [
    "df_ft.describe()"
   ]
  },
  {
   "cell_type": "code",
   "execution_count": 45,
   "id": "ef0d754b",
   "metadata": {},
   "outputs": [],
   "source": [
    "df_ft_cat=df_ft.select_dtypes(include='object')"
   ]
  },
  {
   "cell_type": "code",
   "execution_count": 46,
   "id": "5bf914a9",
   "metadata": {},
   "outputs": [
    {
     "data": {
      "text/html": [
       "<div>\n",
       "<style scoped>\n",
       "    .dataframe tbody tr th:only-of-type {\n",
       "        vertical-align: middle;\n",
       "    }\n",
       "\n",
       "    .dataframe tbody tr th {\n",
       "        vertical-align: top;\n",
       "    }\n",
       "\n",
       "    .dataframe thead th {\n",
       "        text-align: right;\n",
       "    }\n",
       "</style>\n",
       "<table border=\"1\" class=\"dataframe\">\n",
       "  <thead>\n",
       "    <tr style=\"text-align: right;\">\n",
       "      <th></th>\n",
       "      <th>GENDER</th>\n",
       "      <th>CITY</th>\n",
       "      <th>COUNTRY</th>\n",
       "      <th>Week_of_day</th>\n",
       "    </tr>\n",
       "  </thead>\n",
       "  <tbody>\n",
       "    <tr>\n",
       "      <th>count</th>\n",
       "      <td>22065</td>\n",
       "      <td>22065</td>\n",
       "      <td>22065</td>\n",
       "      <td>22065</td>\n",
       "    </tr>\n",
       "    <tr>\n",
       "      <th>unique</th>\n",
       "      <td>3</td>\n",
       "      <td>331</td>\n",
       "      <td>1</td>\n",
       "      <td>7</td>\n",
       "    </tr>\n",
       "    <tr>\n",
       "      <th>top</th>\n",
       "      <td>M</td>\n",
       "      <td>İstanbul</td>\n",
       "      <td>Turkey</td>\n",
       "      <td>Saturday</td>\n",
       "    </tr>\n",
       "    <tr>\n",
       "      <th>freq</th>\n",
       "      <td>21985</td>\n",
       "      <td>4770</td>\n",
       "      <td>22065</td>\n",
       "      <td>3337</td>\n",
       "    </tr>\n",
       "  </tbody>\n",
       "</table>\n",
       "</div>"
      ],
      "text/plain": [
       "       GENDER      CITY COUNTRY Week_of_day\n",
       "count   22065     22065   22065       22065\n",
       "unique      3       331       1           7\n",
       "top         M  İstanbul  Turkey    Saturday\n",
       "freq    21985      4770   22065        3337"
      ]
     },
     "execution_count": 46,
     "metadata": {},
     "output_type": "execute_result"
    }
   ],
   "source": [
    "# Checking the  descriptive statistics for categorical columns\n",
    "df_ft_cat.describe()"
   ]
  },
  {
   "cell_type": "code",
   "execution_count": 47,
   "id": "1f2ccacf",
   "metadata": {},
   "outputs": [],
   "source": [
    "# Observation: In Gender Column there in total 2 genders including 'Male','Female'and dupicate"
   ]
  },
  {
   "cell_type": "markdown",
   "id": "5d864027",
   "metadata": {},
   "source": [
    "#### 3- make a column with the first_deposit_amounts binned in bins of 500 and reflected against every customer ID (for example, someone with a first deposit amount of 880 should reflect in the binning column as '500-1000'."
   ]
  },
  {
   "cell_type": "code",
   "execution_count": 48,
   "id": "a12874f4",
   "metadata": {},
   "outputs": [],
   "source": [
    "df_ft['BINNED_FIRST_DEPOSIT_AMOUNT']=pd.cut(df_ft.FIRST_DEPOSIT_AMOUNT,bins=[0,500,1000,100001],\n",
    "                      labels=['0-500','500-1000','1000 & above'])"
   ]
  },
  {
   "cell_type": "code",
   "execution_count": 49,
   "id": "178ce794",
   "metadata": {},
   "outputs": [
    {
     "data": {
      "text/html": [
       "<div>\n",
       "<style scoped>\n",
       "    .dataframe tbody tr th:only-of-type {\n",
       "        vertical-align: middle;\n",
       "    }\n",
       "\n",
       "    .dataframe tbody tr th {\n",
       "        vertical-align: top;\n",
       "    }\n",
       "\n",
       "    .dataframe thead th {\n",
       "        text-align: right;\n",
       "    }\n",
       "</style>\n",
       "<table border=\"1\" class=\"dataframe\">\n",
       "  <thead>\n",
       "    <tr style=\"text-align: right;\">\n",
       "      <th></th>\n",
       "      <th>IDCUSTOMER</th>\n",
       "      <th>GENDER</th>\n",
       "      <th>CITY</th>\n",
       "      <th>COUNTRY</th>\n",
       "      <th>FIRST_DEPOSIT_AMOUNT</th>\n",
       "      <th>REGISTRATION_DATE</th>\n",
       "      <th>DEPOSIT_DATE</th>\n",
       "      <th>Week_of_day</th>\n",
       "      <th>BINNED_FIRST_DEPOSIT_AMOUNT</th>\n",
       "    </tr>\n",
       "  </thead>\n",
       "  <tbody>\n",
       "    <tr>\n",
       "      <th>0</th>\n",
       "      <td>5075649</td>\n",
       "      <td>M</td>\n",
       "      <td>ankara</td>\n",
       "      <td>Turkey</td>\n",
       "      <td>100.0</td>\n",
       "      <td>2009-01-10</td>\n",
       "      <td>2022-06-05</td>\n",
       "      <td>Sunday</td>\n",
       "      <td>0-500</td>\n",
       "    </tr>\n",
       "    <tr>\n",
       "      <th>1</th>\n",
       "      <td>5176235</td>\n",
       "      <td>M</td>\n",
       "      <td>elazığ</td>\n",
       "      <td>Turkey</td>\n",
       "      <td>400.0</td>\n",
       "      <td>2009-03-01</td>\n",
       "      <td>2022-02-11</td>\n",
       "      <td>Friday</td>\n",
       "      <td>0-500</td>\n",
       "    </tr>\n",
       "    <tr>\n",
       "      <th>2</th>\n",
       "      <td>5249140</td>\n",
       "      <td>M</td>\n",
       "      <td>izmir</td>\n",
       "      <td>Turkey</td>\n",
       "      <td>200.0</td>\n",
       "      <td>2009-04-06</td>\n",
       "      <td>2022-05-02</td>\n",
       "      <td>Monday</td>\n",
       "      <td>0-500</td>\n",
       "    </tr>\n",
       "    <tr>\n",
       "      <th>3</th>\n",
       "      <td>5300998</td>\n",
       "      <td>M</td>\n",
       "      <td>Üsküdar</td>\n",
       "      <td>Turkey</td>\n",
       "      <td>100.0</td>\n",
       "      <td>2009-05-02</td>\n",
       "      <td>2022-02-11</td>\n",
       "      <td>Friday</td>\n",
       "      <td>0-500</td>\n",
       "    </tr>\n",
       "    <tr>\n",
       "      <th>4</th>\n",
       "      <td>5371454</td>\n",
       "      <td>M</td>\n",
       "      <td>sakarya</td>\n",
       "      <td>Turkey</td>\n",
       "      <td>880.0</td>\n",
       "      <td>2009-06-07</td>\n",
       "      <td>2022-05-29</td>\n",
       "      <td>Sunday</td>\n",
       "      <td>500-1000</td>\n",
       "    </tr>\n",
       "  </tbody>\n",
       "</table>\n",
       "</div>"
      ],
      "text/plain": [
       "   IDCUSTOMER GENDER     CITY COUNTRY  FIRST_DEPOSIT_AMOUNT REGISTRATION_DATE  \\\n",
       "0     5075649      M   ankara  Turkey                 100.0        2009-01-10   \n",
       "1     5176235      M   elazığ  Turkey                 400.0        2009-03-01   \n",
       "2     5249140      M    izmir  Turkey                 200.0        2009-04-06   \n",
       "3     5300998      M  Üsküdar  Turkey                 100.0        2009-05-02   \n",
       "4     5371454      M  sakarya  Turkey                 880.0        2009-06-07   \n",
       "\n",
       "  DEPOSIT_DATE Week_of_day BINNED_FIRST_DEPOSIT_AMOUNT  \n",
       "0   2022-06-05      Sunday                       0-500  \n",
       "1   2022-02-11      Friday                       0-500  \n",
       "2   2022-05-02      Monday                       0-500  \n",
       "3   2022-02-11      Friday                       0-500  \n",
       "4   2022-05-29      Sunday                    500-1000  "
      ]
     },
     "execution_count": 49,
     "metadata": {},
     "output_type": "execute_result"
    }
   ],
   "source": [
    "df_ft.head(5)"
   ]
  },
  {
   "cell_type": "markdown",
   "id": "93519e87",
   "metadata": {},
   "source": [
    "### 11- Find a 7 days moving average of number of registrations. (calculating an average of the T-7 days for every week's total registrations)"
   ]
  },
  {
   "cell_type": "code",
   "execution_count": 50,
   "id": "60648294",
   "metadata": {},
   "outputs": [
    {
     "data": {
      "text/html": [
       "<div>\n",
       "<style scoped>\n",
       "    .dataframe tbody tr th:only-of-type {\n",
       "        vertical-align: middle;\n",
       "    }\n",
       "\n",
       "    .dataframe tbody tr th {\n",
       "        vertical-align: top;\n",
       "    }\n",
       "\n",
       "    .dataframe thead th {\n",
       "        text-align: right;\n",
       "    }\n",
       "</style>\n",
       "<table border=\"1\" class=\"dataframe\">\n",
       "  <thead>\n",
       "    <tr style=\"text-align: right;\">\n",
       "      <th></th>\n",
       "      <th>REGISTRATION_COUNTS_PER_DAY</th>\n",
       "    </tr>\n",
       "  </thead>\n",
       "  <tbody>\n",
       "    <tr>\n",
       "      <th>2009-01-10</th>\n",
       "      <td>1</td>\n",
       "    </tr>\n",
       "    <tr>\n",
       "      <th>2009-03-01</th>\n",
       "      <td>1</td>\n",
       "    </tr>\n",
       "    <tr>\n",
       "      <th>2009-04-06</th>\n",
       "      <td>1</td>\n",
       "    </tr>\n",
       "    <tr>\n",
       "      <th>2009-05-02</th>\n",
       "      <td>1</td>\n",
       "    </tr>\n",
       "    <tr>\n",
       "      <th>2009-06-07</th>\n",
       "      <td>1</td>\n",
       "    </tr>\n",
       "    <tr>\n",
       "      <th>...</th>\n",
       "      <td>...</td>\n",
       "    </tr>\n",
       "    <tr>\n",
       "      <th>2022-08-27</th>\n",
       "      <td>67</td>\n",
       "    </tr>\n",
       "    <tr>\n",
       "      <th>2022-08-28</th>\n",
       "      <td>83</td>\n",
       "    </tr>\n",
       "    <tr>\n",
       "      <th>2022-08-29</th>\n",
       "      <td>55</td>\n",
       "    </tr>\n",
       "    <tr>\n",
       "      <th>2022-08-30</th>\n",
       "      <td>58</td>\n",
       "    </tr>\n",
       "    <tr>\n",
       "      <th>2022-08-31</th>\n",
       "      <td>58</td>\n",
       "    </tr>\n",
       "  </tbody>\n",
       "</table>\n",
       "<p>1417 rows × 1 columns</p>\n",
       "</div>"
      ],
      "text/plain": [
       "            REGISTRATION_COUNTS_PER_DAY\n",
       "2009-01-10                            1\n",
       "2009-03-01                            1\n",
       "2009-04-06                            1\n",
       "2009-05-02                            1\n",
       "2009-06-07                            1\n",
       "...                                 ...\n",
       "2022-08-27                           67\n",
       "2022-08-28                           83\n",
       "2022-08-29                           55\n",
       "2022-08-30                           58\n",
       "2022-08-31                           58\n",
       "\n",
       "[1417 rows x 1 columns]"
      ]
     },
     "execution_count": 50,
     "metadata": {},
     "output_type": "execute_result"
    }
   ],
   "source": [
    "REG_DATE_COUNT=df_ft['REGISTRATION_DATE'].value_counts()\n",
    "df_reg_count=pd.DataFrame(REG_DATE_COUNT)\n",
    "df_reg_count.rename({'REGISTRATION_DATE':'REGISTRATION_COUNTS_PER_DAY'},axis='columns',inplace=True)\n",
    "df_reg_count.sort_index(ascending=True,inplace=True)\n",
    "df_reg_count"
   ]
  },
  {
   "cell_type": "code",
   "execution_count": 51,
   "id": "e021b708",
   "metadata": {},
   "outputs": [
    {
     "data": {
      "text/html": [
       "<div>\n",
       "<style scoped>\n",
       "    .dataframe tbody tr th:only-of-type {\n",
       "        vertical-align: middle;\n",
       "    }\n",
       "\n",
       "    .dataframe tbody tr th {\n",
       "        vertical-align: top;\n",
       "    }\n",
       "\n",
       "    .dataframe thead th {\n",
       "        text-align: right;\n",
       "    }\n",
       "</style>\n",
       "<table border=\"1\" class=\"dataframe\">\n",
       "  <thead>\n",
       "    <tr style=\"text-align: right;\">\n",
       "      <th></th>\n",
       "      <th>REGISTRATION_COUNTS_PER_DAY</th>\n",
       "      <th>7 days moving average</th>\n",
       "    </tr>\n",
       "  </thead>\n",
       "  <tbody>\n",
       "    <tr>\n",
       "      <th>2009-01-10</th>\n",
       "      <td>1</td>\n",
       "      <td>1.000000</td>\n",
       "    </tr>\n",
       "    <tr>\n",
       "      <th>2009-03-01</th>\n",
       "      <td>1</td>\n",
       "      <td>1.000000</td>\n",
       "    </tr>\n",
       "    <tr>\n",
       "      <th>2009-04-06</th>\n",
       "      <td>1</td>\n",
       "      <td>1.000000</td>\n",
       "    </tr>\n",
       "    <tr>\n",
       "      <th>2009-05-02</th>\n",
       "      <td>1</td>\n",
       "      <td>1.000000</td>\n",
       "    </tr>\n",
       "    <tr>\n",
       "      <th>2009-06-07</th>\n",
       "      <td>1</td>\n",
       "      <td>1.000000</td>\n",
       "    </tr>\n",
       "    <tr>\n",
       "      <th>...</th>\n",
       "      <td>...</td>\n",
       "      <td>...</td>\n",
       "    </tr>\n",
       "    <tr>\n",
       "      <th>2022-08-27</th>\n",
       "      <td>67</td>\n",
       "      <td>69.714286</td>\n",
       "    </tr>\n",
       "    <tr>\n",
       "      <th>2022-08-28</th>\n",
       "      <td>83</td>\n",
       "      <td>72.285714</td>\n",
       "    </tr>\n",
       "    <tr>\n",
       "      <th>2022-08-29</th>\n",
       "      <td>55</td>\n",
       "      <td>69.857143</td>\n",
       "    </tr>\n",
       "    <tr>\n",
       "      <th>2022-08-30</th>\n",
       "      <td>58</td>\n",
       "      <td>67.571429</td>\n",
       "    </tr>\n",
       "    <tr>\n",
       "      <th>2022-08-31</th>\n",
       "      <td>58</td>\n",
       "      <td>66.571429</td>\n",
       "    </tr>\n",
       "  </tbody>\n",
       "</table>\n",
       "<p>1417 rows × 2 columns</p>\n",
       "</div>"
      ],
      "text/plain": [
       "            REGISTRATION_COUNTS_PER_DAY  7 days moving average\n",
       "2009-01-10                            1               1.000000\n",
       "2009-03-01                            1               1.000000\n",
       "2009-04-06                            1               1.000000\n",
       "2009-05-02                            1               1.000000\n",
       "2009-06-07                            1               1.000000\n",
       "...                                 ...                    ...\n",
       "2022-08-27                           67              69.714286\n",
       "2022-08-28                           83              72.285714\n",
       "2022-08-29                           55              69.857143\n",
       "2022-08-30                           58              67.571429\n",
       "2022-08-31                           58              66.571429\n",
       "\n",
       "[1417 rows x 2 columns]"
      ]
     },
     "execution_count": 51,
     "metadata": {},
     "output_type": "execute_result"
    }
   ],
   "source": [
    "# 7 days moving average of number of registrations\n",
    "\n",
    "df_reg_count['7 days moving average']=df_reg_count['REGISTRATION_COUNTS_PER_DAY'].rolling(window=7,min_periods=1).mean()\n",
    "df_reg_count"
   ]
  },
  {
   "cell_type": "code",
   "execution_count": 52,
   "id": "999ed02c",
   "metadata": {},
   "outputs": [
    {
     "data": {
      "image/png": "[encoded data removed]",
      "text/plain": [
       "<Figure size 1440x720 with 1 Axes>"
      ]
     },
     "metadata": {
      "needs_background": "light"
     },
     "output_type": "display_data"
    }
   ],
   "source": [
    "df_reg_count[['REGISTRATION_COUNTS_PER_DAY','7 days moving average']].plot(xlim=['2022-01-10','2022-08-31'],figsize=(20,10))\n",
    "plt.xlabel('DATE')\n",
    "plt.ylabel('Moving Average')\n",
    "plt.title('Registration done each day Vs 7 days moving average of Registrations')\n",
    "plt.show()"
   ]
  },
  {
   "cell_type": "markdown",
   "id": "25feeedc",
   "metadata": {},
   "source": [
    "# Thank You"
   ]
  }
 ],
 "metadata": {
  "kernelspec": {
   "display_name": "Python 3 (ipykernel)",
   "language": "python",
   "name": "python3"
  },
  "language_info": {
   "codemirror_mode": {
    "name": "ipython",
    "version": 3
   },
   "file_extension": ".py",
   "mimetype": "text/x-python",
   "name": "python",
   "nbconvert_exporter": "python",
   "pygments_lexer": "ipython3",
   "version": "3.9.7"
  },
  "toc": {
   "base_numbering": 1,
   "nav_menu": {},
   "number_sections": true,
   "sideBar": true,
   "skip_h1_title": false,
   "title_cell": "Table of Contents",
   "title_sidebar": "Contents",
   "toc_cell": false,
   "toc_position": {},
   "toc_section_display": true,
   "toc_window_display": false
  }
 },
 "nbformat": 4,
 "nbformat_minor": 5
}
